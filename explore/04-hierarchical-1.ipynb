{
 "cells": [
  {
   "cell_type": "markdown",
   "metadata": {},
   "source": [
    "# Explore the Hierarchical class"
   ]
  },
  {
   "cell_type": "markdown",
   "metadata": {},
   "source": [
    "This notebook explores the base functionality of Hierarchical as this base functionality is introduced."
   ]
  },
  {
   "cell_type": "markdown",
   "metadata": {},
   "source": [
    "For now, Hierarchical is indeed instantiated as a subclass of Sequential, but only inherits the methods that specify how the layer architecture works. If more general architectures are added, the actual implementation will be moved up. Currently, this implementation already involves the general Model API in keras."
   ]
  },
  {
   "cell_type": "markdown",
   "metadata": {},
   "source": [
    "## Methods in Sequential"
   ]
  },
  {
   "cell_type": "code",
   "execution_count": 1,
   "metadata": {},
   "outputs": [
    {
     "name": "stderr",
     "output_type": "stream",
     "text": [
      "Using TensorFlow backend.\n",
      "WARNING: Logging before flag parsing goes to stderr.\n",
      "W0830 16:04:13.270175 139747659605824 deprecation_wrapper.py:119] From /home/sflippl/.local/lib/python3.7/site-packages/keras/backend/tensorflow_backend.py:74: The name tf.get_default_graph is deprecated. Please use tf.compat.v1.get_default_graph instead.\n",
      "\n"
     ]
    }
   ],
   "source": [
    "import keras\n",
    "seq = keras.Sequential()"
   ]
  },
  {
   "cell_type": "code",
   "execution_count": 8,
   "metadata": {},
   "outputs": [
    {
     "name": "stderr",
     "output_type": "stream",
     "text": [
      "W0828 14:54:07.034281 140407269582656 deprecation_wrapper.py:119] From /home/sflippl/.local/lib/python3.7/site-packages/keras/backend/tensorflow_backend.py:517: The name tf.placeholder is deprecated. Please use tf.compat.v1.placeholder instead.\n",
      "\n",
      "W0828 14:54:07.037168 140407269582656 deprecation_wrapper.py:119] From /home/sflippl/.local/lib/python3.7/site-packages/keras/backend/tensorflow_backend.py:4138: The name tf.random_uniform is deprecated. Please use tf.random.uniform instead.\n",
      "\n"
     ]
    }
   ],
   "source": [
    "seq.add(keras.layers.Dense(10, input_shape=(4, )))"
   ]
  },
  {
   "cell_type": "code",
   "execution_count": 9,
   "metadata": {},
   "outputs": [
    {
     "name": "stdout",
     "output_type": "stream",
     "text": [
      "_________________________________________________________________\n",
      "Layer (type)                 Output Shape              Param #   \n",
      "=================================================================\n",
      "dense_1 (Dense)              (None, 10)                50        \n",
      "=================================================================\n",
      "Total params: 50\n",
      "Trainable params: 50\n",
      "Non-trainable params: 0\n",
      "_________________________________________________________________\n"
     ]
    }
   ],
   "source": [
    "seq.summary()"
   ]
  },
  {
   "cell_type": "markdown",
   "metadata": {},
   "source": [
    "Essentially, the thing we must add is a possibility to infer arbitrary states; essentially a state layer. Later, this will be ample opportunity to specify different kinds of state layers (think probabilistic, a la Srinivasan, etc.). Later, we may thus have more than two different modes of estimation, but for now, we have state and weight parameter estimation. This means that effectively, we have multiple sequential models -- which also means that we might as well just explicitly have an entirely new class."
   ]
  },
  {
   "cell_type": "markdown",
   "metadata": {},
   "source": [
    "The overall UI should enable state-to-state thinking. Conceptually, there are two levels of a predictive coding model: on one level, there are the state inference layers. On the other hand, each of these inferred states is being used to predict the state blow, the lowest state being actually observed. The supernetworks should be specified in a bottom-up fashion, whereas the subnetworks should be specified in a top-down fashion. When Hierarchical is initialized, it should thus be initialized in a top-down fashion."
   ]
  },
  {
   "cell_type": "markdown",
   "metadata": {},
   "source": [
    "The following syntax thus seems sensible:"
   ]
  },
  {
   "cell_type": "raw",
   "metadata": {},
   "source": [
    "hpc = pc.Hierarchical()\n",
    "hpc.add(\n",
    "    keras.Sequential(\n",
    "        [pc.layers.State(input_shape=(4, )),\n",
    "         keras.layers.Dense(10),\n",
    "         pc.layers.StateEstimation()]\n",
    "    )\n",
    ")\n",
    "print(hpc)"
   ]
  },
  {
   "cell_type": "markdown",
   "metadata": {},
   "source": [
    "Or, as a more complex example:"
   ]
  },
  {
   "cell_type": "raw",
   "metadata": {},
   "source": [
    "nl_hpc = pc.Hierarchical()\n",
    "nl_hpc.add(pc.layers.State(input_shape=(4, )))\n",
    "nl_hpc.add(\n",
    "    keras.Sequential(\n",
    "         keras.layers.activation('relu', input_shape=(4, )),\n",
    "         keras.layers.Dense(10),\n",
    "         pc.layers.StateEstimation()]\n",
    "    )\n",
    ")\n",
    "nl_hpc.add(pc.layers.StateEstimation())\n",
    "# Current state estimation loop closed. Moving up one tier.\n",
    "nl_hpc.add(pc.layers.State(input_shape=(4, )))\n",
    "\n",
    "nl_hpc.add(\n",
    "    keras.Sequential(\n",
    "         keras.layers.Dense(10),\n",
    "         keras.layers.activation('relu'),\n",
    "         keras.layers.Dense(4)]\n",
    "    )\n",
    ")\n",
    "print(nl_hpc)"
   ]
  },
  {
   "cell_type": "markdown",
   "metadata": {},
   "source": [
    "Pro: Hierarchical models can be built in a bottom up fashion.\n",
    "Con: There's a somewhat unnecessary doubling of state estimation and state -- or at least the input shape there.\n",
    "However, I can see certain advantages with that kind of verbosity, as well."
   ]
  },
  {
   "cell_type": "markdown",
   "metadata": {},
   "source": [
    "As a first step, I will implement the pure interface plus printing.\n"
   ]
  },
  {
   "cell_type": "markdown",
   "metadata": {},
   "source": [
    "Revamp: There are essentially three different modi: adding the state tiers, adding the tier models, and adding the connections between the tiers."
   ]
  },
  {
   "cell_type": "code",
   "execution_count": 35,
   "metadata": {},
   "outputs": [
    {
     "name": "stdout",
     "output_type": "stream",
     "text": [
      "_________________________________________________________________\n",
      "Layer (type)                 Output Shape              Param #   \n",
      "=================================================================\n",
      "dense_6 (Dense)              (None, 10)                50        \n",
      "_________________________________________________________________\n",
      "activation_2 (Activation)    (None, 10)                0         \n",
      "_________________________________________________________________\n",
      "dense_7 (Dense)              (None, 4)                 44        \n",
      "=================================================================\n",
      "Total params: 94\n",
      "Trainable params: 94\n",
      "Non-trainable params: 0\n",
      "_________________________________________________________________\n"
     ]
    }
   ],
   "source": [
    "seq = keras.Sequential()\n",
    "seq.add(keras.layers.Dense(10, input_shape=(4, )))\n",
    "seq.add(keras.layers.Activation('relu'))\n",
    "seq.add(keras.layers.Dense(4))\n",
    "seq.summary()"
   ]
  },
  {
   "cell_type": "raw",
   "metadata": {},
   "source": [
    "nl_hpc = pc.Hierarchical()\n",
    "nl_hpc.add_tier(shape=(10, ))\n",
    "# Adding 'Tier 0'.\n",
    "nl_hpc.add_tier(shape=(4, ))\n",
    "# Adding 'Tier 1'.\n",
    "nl_hpc.add_tier(shape=(2, ), name='Final Tier')\n",
    "# Adding 'Final Tier' (Tier 2).\n",
    "nl_hpc.summary()\n",
    "# -------------------------------------------------------------------\n",
    "# Layer (type)               Output Shape               Param #\n",
    "# ===================================================================\n",
    "# TIER_2\n",
    "# -------------------------------------------------------------------\n",
    "# (Missing Model.)\n",
    "# -------------------------------------------------------------------\n",
    "# (Missing State Prediction.)\n",
    "# -------------------------------------------------------------------\n",
    "# TIER_1\n",
    "# -------------------------------------------------------------------\n",
    "# (Missing Model.)\n",
    "# -------------------------------------------------------------------\n",
    "# (Missing State Prediction.)\n",
    "# -------------------------------------------------------------------\n",
    "# TIER_0\n",
    "# ==================================================================="
   ]
  },
  {
   "cell_type": "markdown",
   "metadata": {},
   "source": [
    "Importantly, we separate the user interface from the implementation via the appropriate class methods. Though I have not looked at that yet, this should make an alternative backend to Tensorflow easier."
   ]
  },
  {
   "cell_type": "markdown",
   "metadata": {},
   "source": [
    "This kind of interface has now been achieved:"
   ]
  },
  {
   "cell_type": "code",
   "execution_count": 2,
   "metadata": {},
   "outputs": [
    {
     "name": "stderr",
     "output_type": "stream",
     "text": [
      "W0830 16:04:18.893996 139747659605824 deprecation_wrapper.py:119] From /home/sflippl/.local/lib/python3.7/site-packages/keras/backend/tensorflow_backend.py:517: The name tf.placeholder is deprecated. Please use tf.compat.v1.placeholder instead.\n",
      "\n",
      "W0830 16:04:18.905709 139747659605824 deprecation_wrapper.py:119] From /home/sflippl/.local/lib/python3.7/site-packages/keras/backend/tensorflow_backend.py:4138: The name tf.random_uniform is deprecated. Please use tf.random.uniform instead.\n",
      "\n"
     ]
    },
    {
     "name": "stdout",
     "output_type": "stream",
     "text": [
      "# Tier 1: tier_1\n",
      "## Connecting Predictor\n",
      "_________________________________________________________________\n",
      "Layer (type)                 Output Shape              Param #   \n",
      "=================================================================\n",
      "dense_1 (Dense)              (None, 4)                 44        \n",
      "=================================================================\n",
      "Total params: 44\n",
      "Trainable params: 44\n",
      "Non-trainable params: 0\n",
      "_________________________________________________________________\n",
      "## Connection State Prediction\n",
      "(No state prediction defined.)\n",
      "# Tier 0: tier_0\n"
     ]
    }
   ],
   "source": [
    "import predicode as pc\n",
    "import keras\n",
    "hpc = pc.Hierarchical()\n",
    "hpc.add_tier(shape=(10, ))\n",
    "hpc.add_tier(shape=(4, ))\n",
    "hpc.predictor = keras.Sequential()\n",
    "hpc.predictor.add(keras.layers.Dense(4, input_shape=(10, )))\n",
    "hpc.summary()"
   ]
  },
  {
   "cell_type": "markdown",
   "metadata": {},
   "source": [
    "Now, we tackle the real meat of Hierarchical: the estimation."
   ]
  },
  {
   "cell_type": "markdown",
   "metadata": {},
   "source": [
    "## Example estimation"
   ]
  },
  {
   "cell_type": "markdown",
   "metadata": {},
   "source": [
    "Our estimation consists of an interplay between state variables and their corresponding minimizers, and models and their corresponding minimizers."
   ]
  },
  {
   "cell_type": "markdown",
   "metadata": {},
   "source": [
    "### Example data"
   ]
  },
  {
   "cell_type": "code",
   "execution_count": 354,
   "metadata": {},
   "outputs": [],
   "source": [
    "art = pc.decaying_multi_normal(dimensions=10, size=100)"
   ]
  },
  {
   "cell_type": "code",
   "execution_count": 355,
   "metadata": {},
   "outputs": [],
   "source": [
    "import tensorflow as tf"
   ]
  },
  {
   "cell_type": "markdown",
   "metadata": {},
   "source": [
    "### State variables"
   ]
  },
  {
   "cell_type": "code",
   "execution_count": 356,
   "metadata": {},
   "outputs": [],
   "source": [
    "tier_0 = tf.constant(art, name = 'tier_0', dtype=tf.float32)"
   ]
  },
  {
   "cell_type": "code",
   "execution_count": 357,
   "metadata": {},
   "outputs": [],
   "source": [
    "tier_1_initial = pc.init('random', columns=4, rows=100)"
   ]
  },
  {
   "cell_type": "code",
   "execution_count": 358,
   "metadata": {},
   "outputs": [],
   "source": [
    "tier_1 = tf.Variable(tier_1_initial, name = 'hierarchical_1_tier_1', dtype=tf.float32)"
   ]
  },
  {
   "cell_type": "markdown",
   "metadata": {},
   "source": [
    "### Predictors"
   ]
  },
  {
   "cell_type": "code",
   "execution_count": 359,
   "metadata": {},
   "outputs": [],
   "source": [
    "predictor_1 = keras.Sequential([keras.layers.Dense(10, input_shape=(4, ), use_bias=False)])"
   ]
  },
  {
   "cell_type": "code",
   "execution_count": 360,
   "metadata": {},
   "outputs": [
    {
     "data": {
      "text/plain": [
       "<keras.engine.sequential.Sequential at 0x7f18bb8c3b10>"
      ]
     },
     "execution_count": 360,
     "metadata": {},
     "output_type": "execute_result"
    }
   ],
   "source": [
    "predictor_1"
   ]
  },
  {
   "cell_type": "code",
   "execution_count": 361,
   "metadata": {},
   "outputs": [],
   "source": [
    "predicted_1 = predictor_1(tier_1)"
   ]
  },
  {
   "cell_type": "markdown",
   "metadata": {},
   "source": [
    "### State prediction"
   ]
  },
  {
   "cell_type": "code",
   "execution_count": 362,
   "metadata": {},
   "outputs": [],
   "source": [
    "loss = keras.losses.mean_squared_error(tier_0, predicted_1)"
   ]
  },
  {
   "cell_type": "code",
   "execution_count": 363,
   "metadata": {},
   "outputs": [],
   "source": [
    "init_op = tf.global_variables_initializer()"
   ]
  },
  {
   "cell_type": "code",
   "execution_count": 364,
   "metadata": {},
   "outputs": [
    {
     "name": "stdout",
     "output_type": "stream",
     "text": [
      "[0.25360444 0.22708221 0.0162115  0.02750648 0.11611382 0.05579837\n",
      " 0.01782483 0.01400409 0.18456575 0.2195266  0.03926224 0.11332171\n",
      " 0.16874531 0.18739022 0.48242077 0.18214998 0.3583482  0.13900527\n",
      " 0.761213   0.29731005 0.01002112 0.10913886 0.07890564 0.08191447\n",
      " 0.01689442 0.00465213 0.02475609 0.3952284  0.17162569 0.0084704\n",
      " 0.00558436 0.03944265 0.05324567 0.05877722 0.00574681 0.04137947\n",
      " 0.42664728 0.0127202  0.16638245 0.05489131 0.01352558 0.15624201\n",
      " 0.1070043  0.11062206 0.02763974 0.02389851 0.0126999  0.4434076\n",
      " 0.08436457 0.14109716 0.13791429 0.24067771 0.01010384 0.01050533\n",
      " 0.04059715 0.03878767 0.13854215 0.24737802 0.05857478 0.26247895\n",
      " 0.02099425 0.09011039 0.04268298 0.22133084 0.00573754 0.03962309\n",
      " 0.21524036 0.05308912 0.04217167 0.28271243 0.20865652 0.09021195\n",
      " 0.02156907 0.03422244 0.31455955 0.06558277 0.20684285 0.16278024\n",
      " 0.25961897 0.91579616 0.15638778 0.02675242 0.23569699 0.02741941\n",
      " 0.0320649  0.17602226 0.19689794 0.19700928 0.1530825  0.1108022\n",
      " 0.09558789 0.04417872 0.02439235 0.24044318 0.02069707 0.94822675\n",
      " 0.08234616 0.3691011  0.02836876 0.07287588]\n"
     ]
    }
   ],
   "source": [
    "with tf.Session() as sess:\n",
    "    sess.run(init_op)\n",
    "    print(sess.run(loss))"
   ]
  },
  {
   "cell_type": "markdown",
   "metadata": {},
   "source": [
    "### State estimation"
   ]
  },
  {
   "cell_type": "code",
   "execution_count": 365,
   "metadata": {},
   "outputs": [],
   "source": [
    "state_optimizer = tf.train.GradientDescentOptimizer(learning_rate=1)"
   ]
  },
  {
   "cell_type": "code",
   "execution_count": 366,
   "metadata": {},
   "outputs": [
    {
     "data": {
      "text/plain": [
       "<tf.Tensor 'Mean_15:0' shape=(100,) dtype=float32>"
      ]
     },
     "execution_count": 366,
     "metadata": {},
     "output_type": "execute_result"
    }
   ],
   "source": [
    "loss"
   ]
  },
  {
   "cell_type": "code",
   "execution_count": 367,
   "metadata": {},
   "outputs": [],
   "source": [
    "state_step = state_optimizer.minimize(loss, var_list=(tier_1))"
   ]
  },
  {
   "cell_type": "code",
   "execution_count": 368,
   "metadata": {},
   "outputs": [
    {
     "name": "stdout",
     "output_type": "stream",
     "text": [
      "[ 0.03243238  0.2186738  -0.02018487  0.02575708]\n",
      "[-0.13920164 -0.02962834  0.09834187  0.00599605]\n"
     ]
    }
   ],
   "source": [
    "with tf.Session() as sess:\n",
    "    sess.run(init_op)\n",
    "    print(sess.run(tier_1)[0, ])\n",
    "    sess.run(state_step)\n",
    "    print(sess.run(tier_1)[0, ])"
   ]
  },
  {
   "cell_type": "code",
   "execution_count": 369,
   "metadata": {},
   "outputs": [
    {
     "name": "stdout",
     "output_type": "stream",
     "text": [
      "[ 0.03243238  0.2186738  -0.02018487  0.02575708]\n",
      "[-0.4991267  -0.5025747   0.26580867 -0.2504718 ]\n"
     ]
    }
   ],
   "source": [
    "with tf.Session() as sess:\n",
    "    sess.run(init_op)\n",
    "    print(sess.run(tier_1)[0, ])\n",
    "    for i in range(10):\n",
    "        sess.run(state_step)\n",
    "    print(sess.run(tier_1)[0, ])"
   ]
  },
  {
   "cell_type": "markdown",
   "metadata": {},
   "source": [
    "### Predictor estimation"
   ]
  },
  {
   "cell_type": "code",
   "execution_count": 370,
   "metadata": {},
   "outputs": [],
   "source": [
    "predictor_optimizer = tf.train.GradientDescentOptimizer(learning_rate=1)"
   ]
  },
  {
   "cell_type": "code",
   "execution_count": 371,
   "metadata": {},
   "outputs": [],
   "source": [
    "predictor_loss = tf.math.reduce_mean(loss)"
   ]
  },
  {
   "cell_type": "code",
   "execution_count": 372,
   "metadata": {},
   "outputs": [
    {
     "data": {
      "text/plain": [
       "<tf.Tensor 'Mean_16:0' shape=() dtype=float32>"
      ]
     },
     "execution_count": 372,
     "metadata": {},
     "output_type": "execute_result"
    }
   ],
   "source": [
    "predictor_loss"
   ]
  },
  {
   "cell_type": "code",
   "execution_count": 373,
   "metadata": {},
   "outputs": [],
   "source": [
    "predictor_step = predictor_optimizer.minimize(predictor_loss, var_list = predictor_1.weights)"
   ]
  },
  {
   "cell_type": "code",
   "execution_count": 374,
   "metadata": {},
   "outputs": [
    {
     "name": "stdout",
     "output_type": "stream",
     "text": [
      "0.14465778\n",
      "[array([[-1.7108925e-02, -2.5487083e-01,  3.9950970e-01, -7.4577510e-01,\n",
      "        -5.3083360e-02, -1.3094580e-01,  4.9180683e-01, -2.6958224e-01,\n",
      "        -3.0999517e-02, -3.9294282e-01],\n",
      "       [-3.4616698e-02, -1.8440261e-02, -1.9149692e-01, -1.5493933e-03,\n",
      "         1.6140562e-01,  8.5759163e-02,  1.4126500e-01,  8.5966391e-03,\n",
      "         1.0085887e-01, -1.2573749e-01],\n",
      "       [-1.4346266e-01, -2.2139332e-01,  1.3662139e+00, -1.8113140e+00,\n",
      "        -5.9843414e-02, -6.2998980e-01,  5.7082003e-01, -7.4901414e-01,\n",
      "        -7.6817781e-02, -5.1907384e-01],\n",
      "       [-2.5155081e-03,  1.9905902e-01, -2.5483847e-01,  3.8675079e-01,\n",
      "        -4.3461457e-02,  1.7035905e-01, -1.9656603e-01,  9.7926654e-02,\n",
      "        -9.1270842e-02,  2.2500600e-01]], dtype=float32)]\n",
      "[0.3333633  0.2093298  0.4824954  0.34900895]\n",
      "[array([[-1.7108925e-02, -2.5487083e-01,  3.9950970e-01, -7.4577510e-01,\n",
      "        -5.3083360e-02, -1.3094580e-01,  4.9180683e-01, -2.6958224e-01,\n",
      "        -3.0999517e-02, -3.9294282e-01],\n",
      "       [-3.4616698e-02, -1.8440261e-02, -1.9149692e-01, -1.5493933e-03,\n",
      "         1.6140562e-01,  8.5759163e-02,  1.4126500e-01,  8.5966391e-03,\n",
      "         1.0085887e-01, -1.2573749e-01],\n",
      "       [-1.4346266e-01, -2.2139332e-01,  1.3662139e+00, -1.8113140e+00,\n",
      "        -5.9843414e-02, -6.2998980e-01,  5.7082003e-01, -7.4901414e-01,\n",
      "        -7.6817781e-02, -5.1907384e-01],\n",
      "       [-2.5155081e-03,  1.9905902e-01, -2.5483847e-01,  3.8675079e-01,\n",
      "        -4.3461457e-02,  1.7035905e-01, -1.9656603e-01,  9.7926654e-02,\n",
      "        -9.1270842e-02,  2.2500600e-01]], dtype=float32)]\n",
      "[0.33443058 0.20007388 0.47761002 0.33019543]\n",
      "[array([[-0.02800105, -0.2516233 ,  0.38944447, -0.76274043, -0.03461138,\n",
      "        -0.08242299,  0.51843655, -0.293727  , -0.07988086, -0.34936225],\n",
      "       [ 0.01956737,  0.01082424, -0.1935043 , -0.05411317,  0.21530508,\n",
      "         0.14925787,  0.1737539 ,  0.04358952,  0.04014774, -0.06581552],\n",
      "       [-0.23382972, -0.27691868,  1.3241308 , -1.7810346 , -0.09441141,\n",
      "        -0.6657272 ,  0.56667805, -0.8357375 , -0.11128724, -0.51308745],\n",
      "       [ 0.00728293,  0.21600452, -0.25493103,  0.35754332,  0.0953257 ,\n",
      "         0.26614985, -0.1548116 ,  0.0708317 , -0.2800484 ,  0.29095486]],\n",
      "      dtype=float32)]\n",
      "0.00024200961\n"
     ]
    }
   ],
   "source": [
    "with tf.Session() as sess:\n",
    "    sess.run(init_op)\n",
    "    print(sess.run(predictor_loss))\n",
    "    for i in range(1000):\n",
    "        sess.run(predictor_step)\n",
    "    print(predictor_1.get_weights())\n",
    "    for i in range(100):\n",
    "        sess.run(state_step)\n",
    "    print(sess.run(tier_1)[0, ])\n",
    "    print(predictor_1.get_weights())\n",
    "    for i in range(100):\n",
    "        sess.run(predictor_step)\n",
    "    for i in range(100):\n",
    "        sess.run(state_step)\n",
    "    print(sess.run(tier_1)[0, ])\n",
    "    print(predictor_1.get_weights())\n",
    "    print(sess.run(predictor_loss))"
   ]
  },
  {
   "cell_type": "markdown",
   "metadata": {},
   "source": [
    "This ought to have given us some intuition for how this process should work, so we will now single out the different steps. Clearly, the tiers should simply be Tensorflow variables."
   ]
  },
  {
   "cell_type": "code",
   "execution_count": 375,
   "metadata": {},
   "outputs": [],
   "source": [
    "predictor_1.compile(tf.train.GradientDescentOptimizer(learning_rate=10), loss='mean_squared_error')"
   ]
  },
  {
   "cell_type": "code",
   "execution_count": 376,
   "metadata": {},
   "outputs": [],
   "source": [
    "init_op = tf.global_variables_initializer()"
   ]
  },
  {
   "cell_type": "code",
   "execution_count": 477,
   "metadata": {},
   "outputs": [
    {
     "name": "stdout",
     "output_type": "stream",
     "text": [
      "Epoch 1/1\n",
      "50/50 [==============================] - 0s 3ms/step - loss: 0.0038\n",
      "Epoch 1/1\n",
      " 1/50 [..............................] - ETA: 0s - loss: 4.0384e-04"
     ]
    },
    {
     "name": "stderr",
     "output_type": "stream",
     "text": [
      "Exception ignored in: <function BaseSession._Callable.__del__ at 0x7f194df4ad40>\n",
      "Traceback (most recent call last):\n",
      "  File \"/home/sflippl/.local/lib/python3.7/site-packages/tensorflow/python/client/session.py\", line 1473, in __del__\n",
      "    self._session._session, self._handle)\n",
      "tensorflow.python.framework.errors_impl.CancelledError: (None, None, 'Session has been closed.')\n"
     ]
    },
    {
     "name": "stdout",
     "output_type": "stream",
     "text": [
      "50/50 [==============================] - 0s 871us/step - loss: 3.3246e-04\n",
      "Epoch 1/1\n",
      "50/50 [==============================] - 0s 869us/step - loss: 2.7726e-04\n",
      "Epoch 1/1\n",
      "50/50 [==============================] - 0s 1ms/step - loss: 2.6677e-04\n",
      "Epoch 1/1\n",
      "50/50 [==============================] - 0s 1ms/step - loss: 2.6462e-04\n",
      "Epoch 1/1\n",
      "50/50 [==============================] - 0s 1ms/step - loss: 2.6399e-04\n",
      "Epoch 1/1\n",
      "50/50 [==============================] - 0s 2ms/step - loss: 2.6360e-04\n",
      "Epoch 1/1\n",
      "50/50 [==============================] - 0s 887us/step - loss: 2.6320e-04\n",
      "Epoch 1/1\n",
      "50/50 [==============================] - 0s 2ms/step - loss: 2.6273e-04\n",
      "Epoch 1/1\n",
      "50/50 [==============================] - 0s 994us/step - loss: 2.6216e-04\n",
      "Epoch 1/1\n",
      "50/50 [==============================] - 0s 838us/step - loss: 2.6146e-04\n",
      "Epoch 1/1\n",
      "50/50 [==============================] - 0s 764us/step - loss: 2.6062e-04\n",
      "Epoch 1/1\n",
      "50/50 [==============================] - 0s 932us/step - loss: 2.5960e-04\n",
      "Epoch 1/1\n",
      "50/50 [==============================] - 0s 837us/step - loss: 2.5835e-04\n",
      "Epoch 1/1\n",
      "50/50 [==============================] - 0s 885us/step - loss: 2.5685e-04\n",
      "Epoch 1/1\n",
      "50/50 [==============================] - 0s 832us/step - loss: 2.5502e-04\n",
      "Epoch 1/1\n",
      "50/50 [==============================] - 0s 880us/step - loss: 2.5282e-04\n",
      "Epoch 1/1\n",
      "50/50 [==============================] - 0s 833us/step - loss: 2.5018e-04\n",
      "Epoch 1/1\n",
      "50/50 [==============================] - 0s 898us/step - loss: 2.4701e-04\n",
      "Epoch 1/1\n",
      "50/50 [==============================] - 0s 810us/step - loss: 2.4324e-04\n",
      "Epoch 1/1\n",
      "50/50 [==============================] - 0s 2ms/step - loss: 2.3879e-04\n",
      "Epoch 1/1\n",
      "50/50 [==============================] - 0s 901us/step - loss: 2.3356e-04\n",
      "Epoch 1/1\n",
      "50/50 [==============================] - 0s 810us/step - loss: 2.2748e-04\n",
      "Epoch 1/1\n",
      "50/50 [==============================] - 0s 1ms/step - loss: 2.2049e-04\n",
      "Epoch 1/1\n",
      "50/50 [==============================] - 0s 833us/step - loss: 2.1255e-04\n",
      "Epoch 1/1\n",
      "50/50 [==============================] - 0s 2ms/step - loss: 2.0366e-04\n",
      "Epoch 1/1\n",
      "50/50 [==============================] - 0s 938us/step - loss: 1.9387e-04\n",
      "Epoch 1/1\n",
      "50/50 [==============================] - 0s 908us/step - loss: 1.8327e-04\n",
      "Epoch 1/1\n",
      "50/50 [==============================] - 0s 801us/step - loss: 1.7201e-04\n",
      "Epoch 1/1\n",
      "50/50 [==============================] - 0s 867us/step - loss: 1.6029e-04\n",
      "Epoch 1/1\n",
      "50/50 [==============================] - 0s 849us/step - loss: 1.4835e-04\n",
      "Epoch 1/1\n",
      "50/50 [==============================] - 0s 849us/step - loss: 1.3643e-04\n",
      "Epoch 1/1\n",
      "50/50 [==============================] - 0s 3ms/step - loss: 1.2480e-04\n",
      "Epoch 1/1\n",
      "50/50 [==============================] - 0s 901us/step - loss: 1.1369e-04\n",
      "Epoch 1/1\n",
      "50/50 [==============================] - 0s 933us/step - loss: 1.0327e-04\n",
      "Epoch 1/1\n",
      "50/50 [==============================] - 0s 1ms/step - loss: 9.3691e-05\n",
      "Epoch 1/1\n",
      "50/50 [==============================] - 0s 769us/step - loss: 8.5034e-05\n",
      "Epoch 1/1\n",
      "50/50 [==============================] - 0s 956us/step - loss: 7.7330e-05\n",
      "Epoch 1/1\n",
      "50/50 [==============================] - 0s 958us/step - loss: 7.0570e-05\n",
      "Epoch 1/1\n",
      "50/50 [==============================] - 0s 872us/step - loss: 6.4710e-05\n",
      "Epoch 1/1\n",
      "50/50 [==============================] - 0s 848us/step - loss: 5.9684e-05\n",
      "Epoch 1/1\n",
      "50/50 [==============================] - 0s 2ms/step - loss: 5.5412e-05\n",
      "Epoch 1/1\n",
      "50/50 [==============================] - 0s 1ms/step - loss: 5.1809e-05\n",
      "Epoch 1/1\n",
      "50/50 [==============================] - 0s 875us/step - loss: 4.8790e-05\n",
      "Epoch 1/1\n",
      "50/50 [==============================] - 0s 826us/step - loss: 4.6274e-05\n",
      "Epoch 1/1\n",
      "50/50 [==============================] - 0s 2ms/step - loss: 4.4186e-05\n",
      "Epoch 1/1\n",
      "50/50 [==============================] - 0s 828us/step - loss: 4.2461e-05\n",
      "Epoch 1/1\n",
      "50/50 [==============================] - 0s 3ms/step - loss: 4.1039e-05\n",
      "Epoch 1/1\n",
      "50/50 [==============================] - 0s 886us/step - loss: 3.9870e-05\n",
      "Epoch 1/1\n",
      "50/50 [==============================] - 0s 820us/step - loss: 3.8912e-05\n",
      "Epoch 1/1\n",
      "50/50 [==============================] - 0s 915us/step - loss: 3.8127e-05\n",
      "Epoch 1/1\n",
      "50/50 [==============================] - 0s 775us/step - loss: 3.7485e-05\n",
      "Epoch 1/1\n",
      "50/50 [==============================] - 0s 1ms/step - loss: 3.6961e-05\n",
      "Epoch 1/1\n",
      "50/50 [==============================] - 0s 827us/step - loss: 3.6534e-05\n",
      "Epoch 1/1\n",
      "50/50 [==============================] - 0s 888us/step - loss: 3.6185e-05\n",
      "Epoch 1/1\n",
      "50/50 [==============================] - 0s 826us/step - loss: 3.5901e-05\n",
      "Epoch 1/1\n",
      "50/50 [==============================] - 0s 780us/step - loss: 3.5669e-05\n",
      "Epoch 1/1\n",
      "50/50 [==============================] - 0s 859us/step - loss: 3.5481e-05\n",
      "Epoch 1/1\n",
      "50/50 [==============================] - 0s 817us/step - loss: 3.5327e-05\n",
      "Epoch 1/1\n",
      "50/50 [==============================] - 0s 867us/step - loss: 3.5202e-05\n",
      "Epoch 1/1\n",
      "50/50 [==============================] - 0s 1ms/step - loss: 3.5101e-05\n",
      "Epoch 1/1\n",
      "50/50 [==============================] - 0s 858us/step - loss: 3.5018e-05\n",
      "Epoch 1/1\n",
      "50/50 [==============================] - 0s 2ms/step - loss: 3.4951e-05\n",
      "Epoch 1/1\n",
      "50/50 [==============================] - 0s 1ms/step - loss: 3.4896e-05\n",
      "Epoch 1/1\n",
      "50/50 [==============================] - 0s 943us/step - loss: 3.4851e-05\n",
      "Epoch 1/1\n",
      "50/50 [==============================] - 0s 840us/step - loss: 3.4815e-05\n",
      "Epoch 1/1\n",
      "50/50 [==============================] - 0s 854us/step - loss: 3.4786e-05\n",
      "Epoch 1/1\n",
      "50/50 [==============================] - 0s 820us/step - loss: 3.4762e-05\n",
      "Epoch 1/1\n",
      "50/50 [==============================] - 0s 2ms/step - loss: 3.4742e-05\n",
      "Epoch 1/1\n",
      "50/50 [==============================] - 0s 1ms/step - loss: 3.4726e-05\n",
      "Epoch 1/1\n",
      "50/50 [==============================] - 0s 817us/step - loss: 3.4713e-05\n",
      "Epoch 1/1\n",
      "50/50 [==============================] - 0s 796us/step - loss: 3.4703e-05\n",
      "Epoch 1/1\n",
      "50/50 [==============================] - 0s 866us/step - loss: 3.4694e-05\n",
      "Epoch 1/1\n",
      "50/50 [==============================] - 0s 884us/step - loss: 3.4687e-05\n",
      "Epoch 1/1\n",
      "50/50 [==============================] - 0s 3ms/step - loss: 3.4682e-05\n",
      "Epoch 1/1\n",
      "50/50 [==============================] - 0s 969us/step - loss: 3.4677e-05\n",
      "Epoch 1/1\n",
      "50/50 [==============================] - 0s 3ms/step - loss: 3.4673e-05\n",
      "Epoch 1/1\n",
      "50/50 [==============================] - 0s 1ms/step - loss: 3.4670e-05\n",
      "Epoch 1/1\n",
      "50/50 [==============================] - 0s 1ms/step - loss: 3.4668e-05\n",
      "Epoch 1/1\n",
      "50/50 [==============================] - 0s 901us/step - loss: 3.4666e-05\n",
      "Epoch 1/1\n",
      "50/50 [==============================] - 0s 2ms/step - loss: 3.4664e-05\n",
      "Epoch 1/1\n",
      "50/50 [==============================] - 0s 825us/step - loss: 3.4663e-05\n",
      "Epoch 1/1\n",
      "50/50 [==============================] - 0s 937us/step - loss: 3.4662e-05\n",
      "Epoch 1/1\n",
      "50/50 [==============================] - 0s 2ms/step - loss: 3.4661e-05\n",
      "Epoch 1/1\n",
      "50/50 [==============================] - 0s 2ms/step - loss: 3.4660e-05\n",
      "Epoch 1/1\n",
      "50/50 [==============================] - 0s 785us/step - loss: 3.4659e-05\n",
      "Epoch 1/1\n",
      "50/50 [==============================] - 0s 777us/step - loss: 3.4659e-05\n",
      "Epoch 1/1\n",
      "50/50 [==============================] - 0s 933us/step - loss: 3.4659e-05\n",
      "Epoch 1/1\n",
      "50/50 [==============================] - 0s 915us/step - loss: 3.4658e-05\n",
      "Epoch 1/1\n",
      "50/50 [==============================] - 0s 796us/step - loss: 3.4658e-05\n",
      "Epoch 1/1\n",
      "50/50 [==============================] - 0s 2ms/step - loss: 3.4658e-05\n",
      "Epoch 1/1\n",
      "50/50 [==============================] - 0s 1ms/step - loss: 3.4658e-05\n",
      "Epoch 1/1\n",
      "50/50 [==============================] - 0s 783us/step - loss: 3.4657e-05\n",
      "Epoch 1/1\n",
      "50/50 [==============================] - 0s 871us/step - loss: 3.4657e-05\n",
      "Epoch 1/1\n",
      "50/50 [==============================] - 0s 834us/step - loss: 3.4657e-05\n",
      "Epoch 1/1\n",
      "50/50 [==============================] - 0s 820us/step - loss: 3.4657e-05\n",
      "Epoch 1/1\n",
      "50/50 [==============================] - 0s 2ms/step - loss: 3.4657e-05\n",
      "Epoch 1/1\n",
      "50/50 [==============================] - 0s 1ms/step - loss: 3.4657e-05\n",
      "Epoch 1/1\n",
      "50/50 [==============================] - 0s 844us/step - loss: 3.4657e-05\n",
      "Epoch 1/1\n",
      "50/50 [==============================] - 0s 805us/step - loss: 3.4657e-05\n"
     ]
    }
   ],
   "source": [
    "with tf.Session() as sess:\n",
    "    init_op.run()\n",
    "    for i in range(100):\n",
    "        for i in range(1000):\n",
    "            state_step.run()\n",
    "        predictor_1.fit(tier_1, tier_0, steps_per_epoch=50, epochs=1)\n",
    "    final_weights = predictor_1.get_weights()"
   ]
  },
  {
   "cell_type": "code",
   "execution_count": 478,
   "metadata": {},
   "outputs": [],
   "source": [
    "import sklearn.decomposition as decomp"
   ]
  },
  {
   "cell_type": "code",
   "execution_count": 493,
   "metadata": {},
   "outputs": [],
   "source": [
    "pca = decomp.PCA(10).fit(art)"
   ]
  },
  {
   "cell_type": "code",
   "execution_count": 495,
   "metadata": {},
   "outputs": [
    {
     "data": {
      "text/plain": [
       "array([1.21951185e+00, 1.47887111e-01, 1.78051538e-02, 2.19805505e-03,\n",
       "       2.92805709e-04, 4.94937281e-05, 6.15893716e-06, 6.60351392e-07,\n",
       "       1.10990880e-07, 1.06866469e-08])"
      ]
     },
     "execution_count": 495,
     "metadata": {},
     "output_type": "execute_result"
    }
   ],
   "source": [
    "pca_weights = pca.components_[:4]\n",
    "pca.explained_variance_"
   ]
  },
  {
   "cell_type": "code",
   "execution_count": 496,
   "metadata": {},
   "outputs": [
    {
     "data": {
      "text/plain": [
       "(4, 10)"
      ]
     },
     "execution_count": 496,
     "metadata": {},
     "output_type": "execute_result"
    }
   ],
   "source": [
    "final_weights[0].shape"
   ]
  },
  {
   "cell_type": "code",
   "execution_count": 497,
   "metadata": {},
   "outputs": [
    {
     "data": {
      "text/plain": [
       "array([5.24617272e-03, 1.50873588e-05, 1.14442212e-06, 2.81435079e-07])"
      ]
     },
     "execution_count": 497,
     "metadata": {},
     "output_type": "execute_result"
    }
   ],
   "source": [
    "import scipy\n",
    "angles = scipy.linalg.subspace_angles(final_weights[0].T, pca_weights.T)\n",
    "angles"
   ]
  },
  {
   "cell_type": "code",
   "execution_count": 498,
   "metadata": {},
   "outputs": [
    {
     "data": {
      "text/plain": [
       "array([3.00583555e-01, 8.64441984e-04, 6.55705576e-05, 1.61250422e-05])"
      ]
     },
     "execution_count": 498,
     "metadata": {},
     "output_type": "execute_result"
    }
   ],
   "source": [
    "import numpy as np\n",
    "np.rad2deg(angles)"
   ]
  },
  {
   "cell_type": "markdown",
   "metadata": {},
   "source": [
    "The algorithm indeed seems to find the PCA subspace. I am not sure why the accuracy is so low, though. (I had increased the iterations and nothing changed.)"
   ]
  },
  {
   "cell_type": "code",
   "execution_count": 507,
   "metadata": {},
   "outputs": [],
   "source": [
    "normalized_weights = final_weights[0] / np.linalg.norm(final_weights[0], 2, axis=1, keepdims=True)"
   ]
  },
  {
   "cell_type": "code",
   "execution_count": 512,
   "metadata": {},
   "outputs": [],
   "source": [
    "contribs = np.matmul(np.linalg.inv(pca.components_).T, normalized_weights.T)"
   ]
  },
  {
   "cell_type": "code",
   "execution_count": 514,
   "metadata": {},
   "outputs": [
    {
     "data": {
      "image/png": "[encoded data removed]",
      "text/plain": [
       "<Figure size 640x480 with 1 Axes>"
      ]
     },
     "metadata": {
      "needs_background": "light"
     },
     "output_type": "display_data"
    },
    {
     "data": {
      "text/plain": [
       "<ggplot: (8734010135609)>"
      ]
     },
     "execution_count": 514,
     "metadata": {},
     "output_type": "execute_result"
    }
   ],
   "source": [
    "import lazytools_sflippl as lazytools\n",
    "lazytools.matrix_heatmap(contribs, pole=0)"
   ]
  },
  {
   "cell_type": "markdown",
   "metadata": {},
   "source": [
    "This speaks a pretty clear language though."
   ]
  },
  {
   "cell_type": "code",
   "execution_count": 516,
   "metadata": {},
   "outputs": [
    {
     "data": {
      "text/plain": [
       "array([1.07781646e+00, 1.08374561e+00, 9.05683455e-01, 9.18434088e-01,\n",
       "       4.56237665e-03, 1.25316886e-04, 1.45934388e-03, 3.39127943e-04,\n",
       "       2.85356887e-05, 3.78326325e-04])"
      ]
     },
     "execution_count": 516,
     "metadata": {},
     "output_type": "execute_result"
    }
   ],
   "source": [
    "np.linalg.norm(contribs, 2, axis=1)"
   ]
  },
  {
   "cell_type": "markdown",
   "metadata": {},
   "source": [
    "Same precision, however. This implies reasonable confidence that all errors are numerical, and we can look at an optimization of that after the first implementation."
   ]
  }
 ],
 "metadata": {
  "kernelspec": {
   "display_name": "Python 3",
   "language": "python",
   "name": "python3"
  },
  "language_info": {
   "codemirror_mode": {
    "name": "ipython",
    "version": 3
   },
   "file_extension": ".py",
   "mimetype": "text/x-python",
   "name": "python",
   "nbconvert_exporter": "python",
   "pygments_lexer": "ipython3",
   "version": "3.7.4"
  }
 },
 "nbformat": 4,
 "nbformat_minor": 4
}
