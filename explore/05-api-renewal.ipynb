{
 "cells": [
  {
   "cell_type": "markdown",
   "metadata": {},
   "source": [
    "# API 0.1.0"
   ]
  },
  {
   "cell_type": "code",
   "execution_count": 1,
   "metadata": {},
   "outputs": [],
   "source": [
    "import predicode as pc\n",
    "import tensorflow.keras as keras"
   ]
  },
  {
   "cell_type": "code",
   "execution_count": 2,
   "metadata": {},
   "outputs": [],
   "source": [
    "hpc = pc.Hierarchical()"
   ]
  },
  {
   "cell_type": "code",
   "execution_count": 3,
   "metadata": {},
   "outputs": [
    {
     "data": {
      "text/plain": [
       "<predicode.hierarchical.hierarchical.Hierarchical at 0x7f44ef2e3610>"
      ]
     },
     "execution_count": 3,
     "metadata": {},
     "output_type": "execute_result"
    }
   ],
   "source": [
    "hpc.add_tier(shape=(10, ))"
   ]
  },
  {
   "cell_type": "code",
   "execution_count": 4,
   "metadata": {},
   "outputs": [
    {
     "name": "stdout",
     "output_type": "stream",
     "text": [
      "Active connection: tier_1 -> tier_0\n"
     ]
    },
    {
     "data": {
      "text/plain": [
       "<predicode.hierarchical.hierarchical.Hierarchical at 0x7f44ef2e3610>"
      ]
     },
     "execution_count": 4,
     "metadata": {},
     "output_type": "execute_result"
    }
   ],
   "source": [
    "hpc.add_tier(shape=(4, ))"
   ]
  },
  {
   "cell_type": "code",
   "execution_count": 5,
   "metadata": {},
   "outputs": [
    {
     "name": "stdout",
     "output_type": "stream",
     "text": [
      "# Tier 1: tier_1\n",
      "\n",
      "# Connection: tier_1 -> tier_0\n",
      "(No tier connection defined.)\n",
      "\n",
      "# Tier 0: tier_0\n"
     ]
    }
   ],
   "source": [
    "hpc.summary()"
   ]
  },
  {
   "cell_type": "code",
   "execution_count": 6,
   "metadata": {},
   "outputs": [],
   "source": [
    "hpc.connection = pc.connections.TopDownSequential()"
   ]
  },
  {
   "cell_type": "code",
   "execution_count": 7,
   "metadata": {},
   "outputs": [],
   "source": [
    "hpc.connection.add(keras.layers.Dense(10, input_shape=(4, ),\n",
    "                                      use_bias=False))"
   ]
  },
  {
   "cell_type": "code",
   "execution_count": 8,
   "metadata": {},
   "outputs": [
    {
     "name": "stdout",
     "output_type": "stream",
     "text": [
      "# Tier 1: tier_1\n",
      "\n",
      "# Connection: tier_1 -> tier_0\n",
      "Top-down prediction.\n",
      "## Predictive model\n",
      "Model: \"sequential\"\n",
      "_________________________________________________________________\n",
      "Layer (type)                 Output Shape              Param #   \n",
      "=================================================================\n",
      "dense (Dense)                (None, 10)                40        \n",
      "=================================================================\n",
      "Total params: 40\n",
      "Trainable params: 40\n",
      "Non-trainable params: 0\n",
      "_________________________________________________________________\n",
      "## Prediction error\n",
      "<tensorflow.python.eager.def_function.Function object at 0x7f44f4840110>\n",
      "## Loss function\n",
      "<function mean_squared_error at 0x7f44fe2bb3b0>\n",
      "\n",
      "# Tier 0: tier_0\n"
     ]
    }
   ],
   "source": [
    "hpc.summary()"
   ]
  },
  {
   "cell_type": "code",
   "execution_count": 9,
   "metadata": {},
   "outputs": [],
   "source": [
    "dataset = pc.datasets.decaying_multi_normal(10, 100)"
   ]
  },
  {
   "cell_type": "code",
   "execution_count": 10,
   "metadata": {},
   "outputs": [],
   "source": [
    "hpc.compile(optimizer=pc.regimens.EMRegimen(\n",
    "    state_regimen=pc.regimens.OptimizerRegimen(keras.optimizers.Adam(),\n",
    "                                               eps=1e-3),\n",
    "    predictor_regimen=pc.regimens.OptimizerRegimen(keras.optimizers.Adam(),\n",
    "                                                   eps=1e-8)),\n",
    "    metrics=[keras.metrics.MeanSquaredError()]\n",
    ")"
   ]
  },
  {
   "cell_type": "code",
   "execution_count": 11,
   "metadata": {},
   "outputs": [
    {
     "data": {
      "text/plain": [
       "dtype('float32')"
      ]
     },
     "execution_count": 11,
     "metadata": {},
     "output_type": "execute_result"
    }
   ],
   "source": [
    "dataset.dtype"
   ]
  },
  {
   "cell_type": "code",
   "execution_count": 12,
   "metadata": {},
   "outputs": [
    {
     "data": {
      "text/plain": [
       "<predicode.hierarchical.hierarchical.Hierarchical at 0x7f44ef2e3610>"
      ]
     },
     "execution_count": 12,
     "metadata": {},
     "output_type": "execute_result"
    }
   ],
   "source": [
    "hpc.train(dataset, epochs=500)"
   ]
  },
  {
   "cell_type": "code",
   "execution_count": 13,
   "metadata": {},
   "outputs": [
    {
     "data": {
      "image/png": "[encoded data removed]",
      "text/plain": [
       "<Figure size 640x480 with 1 Axes>"
      ]
     },
     "metadata": {
      "needs_background": "light"
     },
     "output_type": "display_data"
    },
    {
     "data": {
      "text/plain": [
       "<ggplot: (8745874701305)>"
      ]
     },
     "execution_count": 13,
     "metadata": {},
     "output_type": "execute_result"
    }
   ],
   "source": [
    "import sklearn.decomposition as decomp\n",
    "pca = decomp.PCA(10).fit(dataset)\n",
    "import numpy as np\n",
    "final_weights = hpc.connection.model.get_weights()\n",
    "normalized_weights = final_weights[0] / np.linalg.norm(final_weights[0], 2, axis=1, keepdims=True)\n",
    "contribs = np.matmul(np.linalg.inv(pca.components_).T, normalized_weights.T)\n",
    "import lazytools_sflippl as lazytools\n",
    "lazytools.matrix_heatmap(contribs, pole=0)"
   ]
  },
  {
   "cell_type": "code",
   "execution_count": 14,
   "metadata": {},
   "outputs": [
    {
     "data": {
      "image/png": "[encoded data removed]",
      "text/plain": [
       "<Figure size 640x480 with 1 Axes>"
      ]
     },
     "metadata": {
      "needs_background": "light"
     },
     "output_type": "display_data"
    },
    {
     "data": {
      "text/plain": [
       "<ggplot: (8755517580561)>"
      ]
     },
     "execution_count": 14,
     "metadata": {},
     "output_type": "execute_result"
    }
   ],
   "source": [
    "import lazytools_sflippl as lazytools\n",
    "lazytools.matrix_heatmap(hpc.prediction_error('tier_0').numpy(), pole=0)"
   ]
  },
  {
   "cell_type": "code",
   "execution_count": 15,
   "metadata": {},
   "outputs": [
    {
     "data": {
      "text/plain": [
       "[<tf.Variable 'hierarchical_1_tier_0:0' shape=(None, 10) dtype=float32, numpy=\n",
       " array([[ 0.5180018 , -0.5020392 ,  0.69197327, -0.1109162 ,  0.10659228,\n",
       "         -0.193478  ,  0.3712293 , -0.13346097, -0.29330575, -0.72092927]],\n",
       "       dtype=float32)>,\n",
       " <tf.Variable 'hierarchical_1_tier_1:0' shape=(None, 4) dtype=float32, numpy=\n",
       " array([[-0.96993744, -1.0153694 ,  0.40426496,  0.8733335 ]],\n",
       "       dtype=float32)>]"
      ]
     },
     "execution_count": 15,
     "metadata": {},
     "output_type": "execute_result"
    }
   ],
   "source": [
    "hpc._raw_tiers"
   ]
  },
  {
   "cell_type": "markdown",
   "metadata": {},
   "source": [
    "What happens if we re-estimate states after every weight improvement?"
   ]
  },
  {
   "cell_type": "code",
   "execution_count": 16,
   "metadata": {},
   "outputs": [],
   "source": [
    "regimen = pc.regimens.EMRegimen(\n",
    "    state_regimen=pc.regimens.OptimizerRegimen(\n",
    "        keras.optimizers.Adam()\n",
    "    ),\n",
    "    predictor_regimen=pc.regimens.OptimizerRegimen(\n",
    "        keras.optimizers.Adam(), max_steps=1, eps=1e-7\n",
    "    )\n",
    ")"
   ]
  },
  {
   "cell_type": "code",
   "execution_count": 17,
   "metadata": {},
   "outputs": [
    {
     "name": "stdout",
     "output_type": "stream",
     "text": [
      "Active connection: tier_1 -> tier_0\n"
     ]
    }
   ],
   "source": [
    "hpc = pc.Hierarchical(tiers=[(10, ), (4, )])\n",
    "hpc.connection = pc.connections.TopDownSequential([\n",
    "    keras.layers.Dense(10, input_shape=(4, ), use_bias=False)\n",
    "])"
   ]
  },
  {
   "cell_type": "code",
   "execution_count": 18,
   "metadata": {},
   "outputs": [],
   "source": [
    "hpc.compile(optimizer=regimen, metrics=[keras.metrics.MeanSquaredError()])"
   ]
  },
  {
   "cell_type": "code",
   "execution_count": 19,
   "metadata": {},
   "outputs": [],
   "source": [
    "import tensorflow as tf\n",
    "import datetime\n",
    "summary_writer = tf.summary.create_file_writer('log_2/{}'.format(datetime.datetime.now()))"
   ]
  },
  {
   "cell_type": "code",
   "execution_count": 20,
   "metadata": {},
   "outputs": [],
   "source": [
    "with summary_writer.as_default():\n",
    "    hpc.train(dataset, epochs=500)"
   ]
  },
  {
   "cell_type": "code",
   "execution_count": 21,
   "metadata": {},
   "outputs": [],
   "source": [
    "%load_ext tensorboard"
   ]
  },
  {
   "cell_type": "code",
   "execution_count": 22,
   "metadata": {},
   "outputs": [
    {
     "data": {
      "text/plain": [
       "Reusing TensorBoard on port 6008 (pid 26642), started 0:14:14 ago. (Use '!kill 26642' to kill it.)"
      ]
     },
     "metadata": {},
     "output_type": "display_data"
    },
    {
     "data": {
      "text/html": [
       "\n",
       "      <iframe id=\"tensorboard-frame-a36c4b76a15c888a\" width=\"100%\" height=\"800\" frameborder=\"0\">\n",
       "      </iframe>\n",
       "      <script>\n",
       "        (function() {\n",
       "          const frame = document.getElementById(\"tensorboard-frame-a36c4b76a15c888a\");\n",
       "          const url = new URL(\"/\", window.location);\n",
       "          url.port = 6008;\n",
       "          frame.src = url;\n",
       "        })();\n",
       "      </script>\n",
       "  "
      ],
      "text/plain": [
       "<IPython.core.display.HTML object>"
      ]
     },
     "metadata": {},
     "output_type": "display_data"
    }
   ],
   "source": [
    "%tensorboard --logdir log_2"
   ]
  },
  {
   "cell_type": "code",
   "execution_count": 23,
   "metadata": {},
   "outputs": [],
   "source": [
    "import sklearn.decomposition as decomp\n",
    "pca = decomp.PCA(10).fit(dataset)"
   ]
  },
  {
   "cell_type": "code",
   "execution_count": 24,
   "metadata": {},
   "outputs": [
    {
     "data": {
      "text/plain": [
       "[array([[ 0.02783233,  0.4446691 ,  0.10167968,  0.04282278,  0.11785586,\n",
       "          0.4946642 , -0.46309665, -0.29793537,  0.02711142,  0.37106854],\n",
       "        [ 0.61379665,  0.13196476,  0.22699323,  0.22479245,  0.11383592,\n",
       "          0.24530393, -0.42576247,  0.5327278 , -0.25367713, -0.19521189],\n",
       "        [ 0.33965966, -0.47410136,  0.4208074 ,  0.11683799,  0.76038015,\n",
       "         -0.12369221,  0.15381712, -0.16772342, -0.33602542,  0.6017772 ],\n",
       "        [ 0.5172813 ,  0.3608222 , -0.33366346, -0.2662277 ,  0.03994589,\n",
       "         -0.638896  ,  0.1635841 ,  0.5855882 ,  0.38672897, -0.57893133]],\n",
       "       dtype=float32)]"
      ]
     },
     "execution_count": 24,
     "metadata": {},
     "output_type": "execute_result"
    }
   ],
   "source": [
    "hpc.connection.model.get_weights()"
   ]
  },
  {
   "cell_type": "code",
   "execution_count": 25,
   "metadata": {},
   "outputs": [],
   "source": [
    "import numpy as np\n",
    "final_weights = hpc.connection.model.get_weights()\n",
    "normalized_weights = final_weights[0] / np.linalg.norm(final_weights[0], 2, axis=1, keepdims=True)\n",
    "contribs = np.matmul(np.linalg.inv(pca.components_).T, normalized_weights.T)"
   ]
  },
  {
   "cell_type": "code",
   "execution_count": 26,
   "metadata": {},
   "outputs": [
    {
     "data": {
      "image/png": "[encoded data removed]",
      "text/plain": [
       "<Figure size 640x480 with 1 Axes>"
      ]
     },
     "metadata": {
      "needs_background": "light"
     },
     "output_type": "display_data"
    },
    {
     "data": {
      "text/plain": [
       "<ggplot: (8755517717985)>"
      ]
     },
     "execution_count": 26,
     "metadata": {},
     "output_type": "execute_result"
    }
   ],
   "source": [
    "import lazytools_sflippl as lazytools\n",
    "lazytools.matrix_heatmap(contribs, pole=0)"
   ]
  },
  {
   "cell_type": "code",
   "execution_count": null,
   "metadata": {},
   "outputs": [],
   "source": []
  }
 ],
 "metadata": {
  "kernelspec": {
   "display_name": "Python 3",
   "language": "python",
   "name": "python3"
  },
  "language_info": {
   "codemirror_mode": {
    "name": "ipython",
    "version": 3
   },
   "file_extension": ".py",
   "mimetype": "text/x-python",
   "name": "python",
   "nbconvert_exporter": "python",
   "pygments_lexer": "ipython3",
   "version": "3.7.4"
  }
 },
 "nbformat": 4,
 "nbformat_minor": 4
}
