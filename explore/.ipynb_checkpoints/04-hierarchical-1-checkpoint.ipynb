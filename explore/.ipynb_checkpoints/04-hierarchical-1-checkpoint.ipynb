{
 "cells": [
  {
   "cell_type": "markdown",
   "metadata": {},
   "source": [
    "# Explore the Hierarchical class"
   ]
  },
  {
   "cell_type": "markdown",
   "metadata": {},
   "source": [
    "This notebook explores the base functionality of Hierarchical as this base functionality is introduced."
   ]
  },
  {
   "cell_type": "markdown",
   "metadata": {},
   "source": [
    "For now, Hierarchical is indeed instantiated as a subclass of Sequential, but only inherits the methods that specify how the layer architecture works. If more general architectures are added, the actual implementation will be moved up. Currently, this implementation already involves the general Model API in keras."
   ]
  },
  {
   "cell_type": "markdown",
   "metadata": {},
   "source": [
    "## Methods in Sequential"
   ]
  },
  {
   "cell_type": "code",
   "execution_count": 1,
   "metadata": {},
   "outputs": [
    {
     "name": "stderr",
     "output_type": "stream",
     "text": [
      "Using TensorFlow backend.\n",
      "WARNING: Logging before flag parsing goes to stderr.\n",
      "W0828 14:37:13.743058 140407269582656 deprecation_wrapper.py:119] From /home/sflippl/.local/lib/python3.7/site-packages/keras/backend/tensorflow_backend.py:74: The name tf.get_default_graph is deprecated. Please use tf.compat.v1.get_default_graph instead.\n",
      "\n"
     ]
    }
   ],
   "source": [
    "import keras\n",
    "seq = keras.Sequential()"
   ]
  },
  {
   "cell_type": "code",
   "execution_count": 8,
   "metadata": {},
   "outputs": [
    {
     "name": "stderr",
     "output_type": "stream",
     "text": [
      "W0828 14:54:07.034281 140407269582656 deprecation_wrapper.py:119] From /home/sflippl/.local/lib/python3.7/site-packages/keras/backend/tensorflow_backend.py:517: The name tf.placeholder is deprecated. Please use tf.compat.v1.placeholder instead.\n",
      "\n",
      "W0828 14:54:07.037168 140407269582656 deprecation_wrapper.py:119] From /home/sflippl/.local/lib/python3.7/site-packages/keras/backend/tensorflow_backend.py:4138: The name tf.random_uniform is deprecated. Please use tf.random.uniform instead.\n",
      "\n"
     ]
    }
   ],
   "source": [
    "seq.add(keras.layers.Dense(10, input_shape=(4, )))"
   ]
  },
  {
   "cell_type": "code",
   "execution_count": 9,
   "metadata": {},
   "outputs": [
    {
     "name": "stdout",
     "output_type": "stream",
     "text": [
      "_________________________________________________________________\n",
      "Layer (type)                 Output Shape              Param #   \n",
      "=================================================================\n",
      "dense_1 (Dense)              (None, 10)                50        \n",
      "=================================================================\n",
      "Total params: 50\n",
      "Trainable params: 50\n",
      "Non-trainable params: 0\n",
      "_________________________________________________________________\n"
     ]
    }
   ],
   "source": [
    "seq.summary()"
   ]
  },
  {
   "cell_type": "markdown",
   "metadata": {},
   "source": [
    "Essentially, the thing we must add is a possibility to infer arbitrary states; essentially a state layer. Later, this will be ample opportunity to specify different kinds of state layers (think probabilistic, a la Srinivasan, etc.). Later, we may thus have more than two different modes of estimation, but for now, we have state and weight parameter estimation. This means that effectively, we have multiple sequential models -- which also means that we might as well just explicitly have an entirely new class."
   ]
  },
  {
   "cell_type": "markdown",
   "metadata": {},
   "source": [
    "The overall UI should enable state-to-state thinking. Conceptually, there are two levels of a predictive coding model: on one level, there are the state inference layers. On the other hand, each of these inferred states is being used to predict the state blow, the lowest state being actually observed. The supernetworks should be specified in a bottom-up fashion, whereas the subnetworks should be specified in a top-down fashion. When Hierarchical is initialized, it should thus be initialized in a top-down fashion."
   ]
  },
  {
   "cell_type": "markdown",
   "metadata": {},
   "source": [
    "The following syntax thus seems sensible:"
   ]
  },
  {
   "cell_type": "raw",
   "metadata": {},
   "source": [
    "hpc = pc.Hierarchical()\n",
    "hpc.add(\n",
    "    keras.Sequential(\n",
    "        [pc.layers.State(input_shape=(4, )),\n",
    "         keras.layers.Dense(10),\n",
    "         pc.layers.StateEstimation()]\n",
    "    )\n",
    ")\n",
    "print(hpc)"
   ]
  },
  {
   "cell_type": "markdown",
   "metadata": {},
   "source": [
    "Or, as a more complex example:"
   ]
  },
  {
   "cell_type": "raw",
   "metadata": {},
   "source": [
    "nl_hpc = pc.Hierarchical()\n",
    "nl_hpc.add(pc.layers.State(input_shape=(4, )))\n",
    "nl_hpc.add(\n",
    "    keras.Sequential(\n",
    "         keras.layers.activation('relu', input_shape=(4, )),\n",
    "         keras.layers.Dense(10),\n",
    "         pc.layers.StateEstimation()]\n",
    "    )\n",
    ")\n",
    "nl_hpc.add(pc.layers.StateEstimation())\n",
    "# Current state estimation loop closed. Moving up one tier.\n",
    "nl_hpc.add(pc.layers.State(input_shape=(4, )))\n",
    "\n",
    "nl_hpc.add(\n",
    "    keras.Sequential(\n",
    "         keras.layers.Dense(10),\n",
    "         keras.layers.activation('relu'),\n",
    "         keras.layers.Dense(4)]\n",
    "    )\n",
    ")\n",
    "print(nl_hpc)"
   ]
  },
  {
   "cell_type": "markdown",
   "metadata": {},
   "source": [
    "Pro: Hierarchical models can be built in a bottom up fashion.\n",
    "Con: There's a somewhat unnecessary doubling of state estimation and state -- or at least the input shape there.\n",
    "However, I can see certain advantages with that kind of verbosity, as well."
   ]
  },
  {
   "cell_type": "markdown",
   "metadata": {},
   "source": [
    "As a first step, I will implement the pure interface plus printing.\n"
   ]
  },
  {
   "cell_type": "markdown",
   "metadata": {},
   "source": [
    "Revamp: There are essentially three different modi: adding the state tiers, adding the tier models, and adding the connections between the tiers."
   ]
  },
  {
   "cell_type": "code",
   "execution_count": 35,
   "metadata": {},
   "outputs": [
    {
     "name": "stdout",
     "output_type": "stream",
     "text": [
      "_________________________________________________________________\n",
      "Layer (type)                 Output Shape              Param #   \n",
      "=================================================================\n",
      "dense_6 (Dense)              (None, 10)                50        \n",
      "_________________________________________________________________\n",
      "activation_2 (Activation)    (None, 10)                0         \n",
      "_________________________________________________________________\n",
      "dense_7 (Dense)              (None, 4)                 44        \n",
      "=================================================================\n",
      "Total params: 94\n",
      "Trainable params: 94\n",
      "Non-trainable params: 0\n",
      "_________________________________________________________________\n"
     ]
    }
   ],
   "source": [
    "seq = keras.Sequential()\n",
    "seq.add(keras.layers.Dense(10, input_shape=(4, )))\n",
    "seq.add(keras.layers.Activation('relu'))\n",
    "seq.add(keras.layers.Dense(4))\n",
    "seq.summary()"
   ]
  },
  {
   "cell_type": "raw",
   "metadata": {},
   "source": [
    "nl_hpc = pc.Hierarchical()\n",
    "nl_hpc.add_tier(shape=(10, ))\n",
    "# Adding 'Tier 0'.\n",
    "nl_hpc.add_tier(shape=(4, ))\n",
    "# Adding 'Tier 1'.\n",
    "nl_hpc.add_tier(shape=(2, ), name='Final Tier')\n",
    "# Adding 'Final Tier' (Tier 2).\n",
    "nl_hpc.summary()\n",
    "# -------------------------------------------------------------------\n",
    "# Layer (type)               Output Shape               Param #\n",
    "# ===================================================================\n",
    "# TIER_2\n",
    "# -------------------------------------------------------------------\n",
    "# (Missing Model.)\n",
    "# -------------------------------------------------------------------\n",
    "# (Missing State Prediction.)\n",
    "# -------------------------------------------------------------------\n",
    "# TIER_1\n",
    "# -------------------------------------------------------------------\n",
    "# (Missing Model.)\n",
    "# -------------------------------------------------------------------\n",
    "# (Missing State Prediction.)\n",
    "# -------------------------------------------------------------------\n",
    "# TIER_0\n",
    "# ==================================================================="
   ]
  },
  {
   "cell_type": "markdown",
   "metadata": {},
   "source": [
    "Importantly, we separate the user interface from the implementation via the appropriate class methods. Though I have not looked at that yet, this should make an alternative backend to Tensorflow easier."
   ]
  },
  {
   "cell_type": "markdown",
   "metadata": {},
   "source": [
    "This kind of interface has now been achieved:"
   ]
  },
  {
   "cell_type": "code",
   "execution_count": 1,
   "metadata": {},
   "outputs": [
    {
     "name": "stderr",
     "output_type": "stream",
     "text": [
      "Using TensorFlow backend.\n",
      "WARNING: Logging before flag parsing goes to stderr.\n",
      "W0830 13:16:59.213186 139939909711680 deprecation_wrapper.py:119] From /home/sflippl/.local/lib/python3.7/site-packages/keras/backend/tensorflow_backend.py:74: The name tf.get_default_graph is deprecated. Please use tf.compat.v1.get_default_graph instead.\n",
      "\n",
      "W0830 13:16:59.229441 139939909711680 deprecation_wrapper.py:119] From /home/sflippl/.local/lib/python3.7/site-packages/keras/backend/tensorflow_backend.py:517: The name tf.placeholder is deprecated. Please use tf.compat.v1.placeholder instead.\n",
      "\n",
      "W0830 13:16:59.235038 139939909711680 deprecation_wrapper.py:119] From /home/sflippl/.local/lib/python3.7/site-packages/keras/backend/tensorflow_backend.py:4138: The name tf.random_uniform is deprecated. Please use tf.random.uniform instead.\n",
      "\n"
     ]
    },
    {
     "name": "stdout",
     "output_type": "stream",
     "text": [
      "# Tier 1: tier_1\n",
      "## Connecting Predictor\n",
      "_________________________________________________________________\n",
      "Layer (type)                 Output Shape              Param #   \n",
      "=================================================================\n",
      "dense_1 (Dense)              (None, 4)                 44        \n",
      "=================================================================\n",
      "Total params: 44\n",
      "Trainable params: 44\n",
      "Non-trainable params: 0\n",
      "_________________________________________________________________\n",
      "## Connection State Prediction\n",
      "(No state prediction defined.)\n",
      "# Tier 0: tier_0\n"
     ]
    }
   ],
   "source": [
    "import predicode as pc\n",
    "import keras\n",
    "hpc = pc.Hierarchical()\n",
    "hpc.add_tier(shape=(10, ))\n",
    "hpc.add_tier(shape=(4, ))\n",
    "hpc.predictor = keras.Sequential()\n",
    "hpc.predictor.add(keras.layers.Dense(4, input_shape=(10, )))\n",
    "hpc.summary()"
   ]
  },
  {
   "cell_type": "markdown",
   "metadata": {},
   "source": [
    "Now, we tackle the real meat of Hierarchical: the estimation."
   ]
  }
 ],
 "metadata": {
  "kernelspec": {
   "display_name": "Python 3",
   "language": "python",
   "name": "python3"
  },
  "language_info": {
   "codemirror_mode": {
    "name": "ipython",
    "version": 3
   },
   "file_extension": ".py",
   "mimetype": "text/x-python",
   "name": "python",
   "nbconvert_exporter": "python",
   "pygments_lexer": "ipython3",
   "version": "3.7.4"
  }
 },
 "nbformat": 4,
 "nbformat_minor": 4
}
