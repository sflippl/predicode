{
 "cells": [
  {
   "cell_type": "markdown",
   "metadata": {},
   "source": [
    "# Explore the Hierarchical class"
   ]
  },
  {
   "cell_type": "markdown",
   "metadata": {},
   "source": [
    "This notebook explores the base functionality of Hierarchical as this base functionality is introduced."
   ]
  },
  {
   "cell_type": "markdown",
   "metadata": {},
   "source": [
    "For now, Hierarchical is indeed instantiated as a subclass of Sequential, but only inherits the methods that specify how the layer architecture works. If more general architectures are added, the actual implementation will be moved up. Currently, this implementation already involves the general Model API in keras."
   ]
  },
  {
   "cell_type": "markdown",
   "metadata": {},
   "source": [
    "## Methods in Sequential"
   ]
  },
  {
   "cell_type": "code",
   "execution_count": 8,
   "metadata": {},
   "outputs": [],
   "source": [
    "import tensorflow.keras as keras\n",
    "seq = keras.Sequential()"
   ]
  },
  {
   "cell_type": "code",
   "execution_count": 4,
   "metadata": {},
   "outputs": [],
   "source": [
    "seq.add(keras.layers.Dense(10, input_shape=(4, )))"
   ]
  },
  {
   "cell_type": "code",
   "execution_count": 5,
   "metadata": {},
   "outputs": [
    {
     "name": "stdout",
     "output_type": "stream",
     "text": [
      "Model: \"sequential\"\n",
      "_________________________________________________________________\n",
      "Layer (type)                 Output Shape              Param #   \n",
      "=================================================================\n",
      "dense (Dense)                (None, 10)                50        \n",
      "=================================================================\n",
      "Total params: 50\n",
      "Trainable params: 50\n",
      "Non-trainable params: 0\n",
      "_________________________________________________________________\n"
     ]
    }
   ],
   "source": [
    "seq.summary()"
   ]
  },
  {
   "cell_type": "markdown",
   "metadata": {},
   "source": [
    "Essentially, the thing we must add is a possibility to infer arbitrary states; essentially a state layer. Later, this will be ample opportunity to specify different kinds of state layers (think probabilistic, a la Srinivasan, etc.). Later, we may thus have more than two different modes of estimation, but for now, we have state and weight parameter estimation. This means that effectively, we have multiple sequential models -- which also means that we might as well just explicitly have an entirely new class."
   ]
  },
  {
   "cell_type": "markdown",
   "metadata": {},
   "source": [
    "The overall UI should enable state-to-state thinking. Conceptually, there are two levels of a predictive coding model: on one level, there are the state inference layers. On the other hand, each of these inferred states is being used to predict the state blow, the lowest state being actually observed. The supernetworks should be specified in a bottom-up fashion, whereas the subnetworks should be specified in a top-down fashion. When Hierarchical is initialized, it should thus be initialized in a top-down fashion."
   ]
  },
  {
   "cell_type": "markdown",
   "metadata": {},
   "source": [
    "The following syntax thus seems sensible:"
   ]
  },
  {
   "cell_type": "raw",
   "metadata": {},
   "source": [
    "hpc = pc.Hierarchical()\n",
    "hpc.add(\n",
    "    keras.Sequential(\n",
    "        [pc.layers.State(input_shape=(4, )),\n",
    "         keras.layers.Dense(10),\n",
    "         pc.layers.StateEstimation()]\n",
    "    )\n",
    ")\n",
    "print(hpc)"
   ]
  },
  {
   "cell_type": "markdown",
   "metadata": {},
   "source": [
    "Or, as a more complex example:"
   ]
  },
  {
   "cell_type": "raw",
   "metadata": {},
   "source": [
    "nl_hpc = pc.Hierarchical()\n",
    "nl_hpc.add(pc.layers.State(input_shape=(4, )))\n",
    "nl_hpc.add(\n",
    "    keras.Sequential(\n",
    "         keras.layers.activation('relu', input_shape=(4, )),\n",
    "         keras.layers.Dense(10),\n",
    "         pc.layers.StateEstimation()]\n",
    "    )\n",
    ")\n",
    "nl_hpc.add(pc.layers.StateEstimation())\n",
    "# Current state estimation loop closed. Moving up one tier.\n",
    "nl_hpc.add(pc.layers.State(input_shape=(4, )))\n",
    "\n",
    "nl_hpc.add(\n",
    "    keras.Sequential(\n",
    "         keras.layers.Dense(10),\n",
    "         keras.layers.activation('relu'),\n",
    "         keras.layers.Dense(4)]\n",
    "    )\n",
    ")\n",
    "print(nl_hpc)"
   ]
  },
  {
   "cell_type": "markdown",
   "metadata": {},
   "source": [
    "Pro: Hierarchical models can be built in a bottom up fashion.\n",
    "Con: There's a somewhat unnecessary doubling of state estimation and state -- or at least the input shape there.\n",
    "However, I can see certain advantages with that kind of verbosity, as well."
   ]
  },
  {
   "cell_type": "markdown",
   "metadata": {},
   "source": [
    "As a first step, I will implement the pure interface plus printing.\n"
   ]
  },
  {
   "cell_type": "markdown",
   "metadata": {},
   "source": [
    "Revamp: There are essentially three different modi: adding the state tiers, adding the tier models, and adding the connections between the tiers."
   ]
  },
  {
   "cell_type": "code",
   "execution_count": 6,
   "metadata": {},
   "outputs": [
    {
     "name": "stdout",
     "output_type": "stream",
     "text": [
      "Model: \"sequential_1\"\n",
      "_________________________________________________________________\n",
      "Layer (type)                 Output Shape              Param #   \n",
      "=================================================================\n",
      "dense_1 (Dense)              (None, 10)                50        \n",
      "_________________________________________________________________\n",
      "activation (Activation)      (None, 10)                0         \n",
      "_________________________________________________________________\n",
      "dense_2 (Dense)              (None, 4)                 44        \n",
      "=================================================================\n",
      "Total params: 94\n",
      "Trainable params: 94\n",
      "Non-trainable params: 0\n",
      "_________________________________________________________________\n"
     ]
    }
   ],
   "source": [
    "seq = keras.Sequential()\n",
    "seq.add(keras.layers.Dense(10, input_shape=(4, )))\n",
    "seq.add(keras.layers.Activation('relu'))\n",
    "seq.add(keras.layers.Dense(4))\n",
    "seq.summary()"
   ]
  },
  {
   "cell_type": "raw",
   "metadata": {},
   "source": [
    "nl_hpc = pc.Hierarchical()\n",
    "nl_hpc.add_tier(shape=(10, ))\n",
    "# Adding 'Tier 0'.\n",
    "nl_hpc.add_tier(shape=(4, ))\n",
    "# Adding 'Tier 1'.\n",
    "nl_hpc.add_tier(shape=(2, ), name='Final Tier')\n",
    "# Adding 'Final Tier' (Tier 2).\n",
    "nl_hpc.summary()\n",
    "# -------------------------------------------------------------------\n",
    "# Layer (type)               Output Shape               Param #\n",
    "# ===================================================================\n",
    "# TIER_2\n",
    "# -------------------------------------------------------------------\n",
    "# (Missing Model.)\n",
    "# -------------------------------------------------------------------\n",
    "# (Missing State Prediction.)\n",
    "# -------------------------------------------------------------------\n",
    "# TIER_1\n",
    "# -------------------------------------------------------------------\n",
    "# (Missing Model.)\n",
    "# -------------------------------------------------------------------\n",
    "# (Missing State Prediction.)\n",
    "# -------------------------------------------------------------------\n",
    "# TIER_0\n",
    "# ==================================================================="
   ]
  },
  {
   "cell_type": "markdown",
   "metadata": {},
   "source": [
    "Importantly, we separate the user interface from the implementation via the appropriate class methods. Though I have not looked at that yet, this should make an alternative backend to Tensorflow easier."
   ]
  },
  {
   "cell_type": "markdown",
   "metadata": {},
   "source": [
    "This kind of interface has now been achieved:"
   ]
  },
  {
   "cell_type": "code",
   "execution_count": 9,
   "metadata": {},
   "outputs": [
    {
     "name": "stdout",
     "output_type": "stream",
     "text": [
      "# Tier 1: tier_1\n",
      "## Connecting Predictor\n",
      "Model: \"sequential_3\"\n",
      "_________________________________________________________________\n",
      "Layer (type)                 Output Shape              Param #   \n",
      "=================================================================\n",
      "dense_3 (Dense)              (None, 4)                 44        \n",
      "=================================================================\n",
      "Total params: 44\n",
      "Trainable params: 44\n",
      "Non-trainable params: 0\n",
      "_________________________________________________________________\n",
      "## Connection State Prediction\n",
      "(No state prediction defined.)\n",
      "# Tier 0: tier_0\n"
     ]
    }
   ],
   "source": [
    "import predicode as pc\n",
    "hpc = pc.Hierarchical()\n",
    "hpc.add_tier(shape=(10, ))\n",
    "hpc.add_tier(shape=(4, ))\n",
    "hpc.predictor = keras.Sequential()\n",
    "hpc.predictor.add(keras.layers.Dense(4, input_shape=(10, )))\n",
    "hpc.summary()"
   ]
  },
  {
   "cell_type": "markdown",
   "metadata": {},
   "source": [
    "Now, we tackle the real meat of Hierarchical: the estimation."
   ]
  },
  {
   "cell_type": "markdown",
   "metadata": {},
   "source": [
    "## Example estimation"
   ]
  },
  {
   "cell_type": "markdown",
   "metadata": {},
   "source": [
    "Our estimation consists of an interplay between state variables and their corresponding minimizers, and models and their corresponding minimizers."
   ]
  },
  {
   "cell_type": "markdown",
   "metadata": {},
   "source": [
    "### Example data"
   ]
  },
  {
   "cell_type": "code",
   "execution_count": 187,
   "metadata": {},
   "outputs": [],
   "source": [
    "art = pc.decaying_multi_normal(dimensions=10, size=100)"
   ]
  },
  {
   "cell_type": "code",
   "execution_count": 188,
   "metadata": {},
   "outputs": [],
   "source": [
    "import tensorflow as tf"
   ]
  },
  {
   "cell_type": "markdown",
   "metadata": {},
   "source": [
    "### State variables"
   ]
  },
  {
   "cell_type": "code",
   "execution_count": 189,
   "metadata": {},
   "outputs": [],
   "source": [
    "tier_0 = tf.constant(art, name = 'tier_0', dtype=tf.float32)"
   ]
  },
  {
   "cell_type": "code",
   "execution_count": 190,
   "metadata": {},
   "outputs": [],
   "source": [
    "tier_1_initial = pc.init('random', columns=4, rows=100)"
   ]
  },
  {
   "cell_type": "code",
   "execution_count": 191,
   "metadata": {},
   "outputs": [],
   "source": [
    "tier_1 = tf.Variable(tier_1_initial, name = 'hierarchical_1_tier_1', shape = (None, 4), dtype=tf.float32)"
   ]
  },
  {
   "cell_type": "markdown",
   "metadata": {},
   "source": [
    "### Predictors"
   ]
  },
  {
   "cell_type": "code",
   "execution_count": 192,
   "metadata": {},
   "outputs": [],
   "source": [
    "predictor_1 = keras.Sequential([keras.layers.Dense(10, input_shape=(4, ), use_bias=False)])"
   ]
  },
  {
   "cell_type": "code",
   "execution_count": 193,
   "metadata": {},
   "outputs": [
    {
     "data": {
      "text/plain": [
       "<tensorflow.python.keras.engine.sequential.Sequential at 0x7fa44c3517d0>"
      ]
     },
     "execution_count": 193,
     "metadata": {},
     "output_type": "execute_result"
    }
   ],
   "source": [
    "predictor_1"
   ]
  },
  {
   "cell_type": "markdown",
   "metadata": {},
   "source": [
    "### State prediction"
   ]
  },
  {
   "cell_type": "code",
   "execution_count": 194,
   "metadata": {},
   "outputs": [
    {
     "name": "stdout",
     "output_type": "stream",
     "text": [
      "tf.Tensor([ 0.06916584  0.10295527 -0.01925885  0.01391548], shape=(4,), dtype=float32)\n"
     ]
    }
   ],
   "source": [
    "with tf.GradientTape() as tape:\n",
    "    predicted_1 = predictor_1(tier_1)\n",
    "    loss = keras.losses.mean_squared_error(tier_0, predicted_1)\n",
    "grad = tape.gradient(loss, (tier_1))\n",
    "print(grad[0])"
   ]
  },
  {
   "cell_type": "code",
   "execution_count": 195,
   "metadata": {},
   "outputs": [
    {
     "data": {
      "text/plain": [
       "<tf.Tensor: id=2543, shape=(10,), dtype=float32, numpy=\n",
       "array([-0.01579765, -0.15295589,  0.03884996, -0.09921838, -0.09088165,\n",
       "        0.02863319,  0.10915829, -0.07180928, -0.07390705,  0.03274121],\n",
       "      dtype=float32)>"
      ]
     },
     "execution_count": 195,
     "metadata": {},
     "output_type": "execute_result"
    }
   ],
   "source": [
    "predicted_1[0]"
   ]
  },
  {
   "cell_type": "code",
   "execution_count": 196,
   "metadata": {},
   "outputs": [
    {
     "data": {
      "text/plain": [
       "<tf.Tensor: id=2548, shape=(4,), dtype=float32, numpy=array([ 0.02607813,  0.06078077,  0.23898624, -0.023039  ], dtype=float32)>"
      ]
     },
     "execution_count": 196,
     "metadata": {},
     "output_type": "execute_result"
    }
   ],
   "source": [
    "tier_1[0]"
   ]
  },
  {
   "cell_type": "markdown",
   "metadata": {},
   "source": [
    "### State estimation"
   ]
  },
  {
   "cell_type": "code",
   "execution_count": 197,
   "metadata": {},
   "outputs": [],
   "source": [
    "state_optimizer = keras.optimizers.SGD(learning_rate=1)"
   ]
  },
  {
   "cell_type": "code",
   "execution_count": 198,
   "metadata": {},
   "outputs": [
    {
     "data": {
      "text/plain": [
       "(<tf.Tensor: id=2552, shape=(), dtype=float32, numpy=0.22856279>,)"
      ]
     },
     "execution_count": 198,
     "metadata": {},
     "output_type": "execute_result"
    }
   ],
   "source": [
    "next(zip(loss))"
   ]
  },
  {
   "cell_type": "code",
   "execution_count": 199,
   "metadata": {},
   "outputs": [],
   "source": [
    "state_step = state_optimizer.apply_gradients(zip([grad], [tier_1]))"
   ]
  },
  {
   "cell_type": "code",
   "execution_count": 200,
   "metadata": {},
   "outputs": [
    {
     "data": {
      "text/plain": [
       "<tf.Variable 'SGD/iter:0' shape=() dtype=int64, numpy=1>"
      ]
     },
     "execution_count": 200,
     "metadata": {},
     "output_type": "execute_result"
    }
   ],
   "source": [
    "state_optimizer.iterations"
   ]
  },
  {
   "cell_type": "code",
   "execution_count": 201,
   "metadata": {},
   "outputs": [
    {
     "data": {
      "text/plain": [
       "<tf.Tensor: id=2590, shape=(4,), dtype=float32, numpy=array([-0.04308771, -0.0421745 ,  0.25824508, -0.03695448], dtype=float32)>"
      ]
     },
     "execution_count": 201,
     "metadata": {},
     "output_type": "execute_result"
    }
   ],
   "source": [
    "tier_1[0]"
   ]
  },
  {
   "cell_type": "markdown",
   "metadata": {},
   "source": [
    "### Predictor estimation"
   ]
  },
  {
   "cell_type": "code",
   "execution_count": 202,
   "metadata": {},
   "outputs": [],
   "source": [
    "predictor_optimizer = keras.optimizers.SGD(learning_rate=1)"
   ]
  },
  {
   "cell_type": "code",
   "execution_count": 205,
   "metadata": {},
   "outputs": [],
   "source": [
    "old_predictor = predictor_1.trainable_variables[0].numpy()"
   ]
  },
  {
   "cell_type": "code",
   "execution_count": 206,
   "metadata": {},
   "outputs": [
    {
     "data": {
      "text/plain": [
       "array([[ 0.44276857, -0.43209442,  0.17139822, -0.51473606, -0.56620896,\n",
       "        -0.65066326, -0.30062282, -0.6243234 , -0.43783697,  0.1630798 ],\n",
       "       [ 0.4224726 , -0.607174  , -0.4189397 ,  0.5001584 , -0.6204565 ,\n",
       "        -0.60774255, -0.25291806,  0.33532977,  0.299918  ,  0.19814217],\n",
       "       [-0.25638744, -0.49725708,  0.19702882, -0.44613242, -0.17868066,\n",
       "         0.37250507,  0.59341705, -0.321252  , -0.2927201 ,  0.01704144],\n",
       "       [-0.35811612, -0.61002773, -0.55369246,  0.41562295, -0.18655622,\n",
       "         0.28140354,  0.4100864 , -0.0375495 ,  0.46713197, -0.5370237 ]],\n",
       "      dtype=float32)"
      ]
     },
     "execution_count": 206,
     "metadata": {},
     "output_type": "execute_result"
    }
   ],
   "source": [
    "old_predictor"
   ]
  },
  {
   "cell_type": "code",
   "execution_count": 207,
   "metadata": {},
   "outputs": [],
   "source": [
    "with tf.GradientTape() as tape:\n",
    "    predicted_1 = predictor_1(tier_1)\n",
    "    loss = keras.losses.mean_squared_error(tier_0, predicted_1)\n",
    "grad = tape.gradient(loss, predictor_1.trainable_variables)"
   ]
  },
  {
   "cell_type": "code",
   "execution_count": 208,
   "metadata": {},
   "outputs": [],
   "source": [
    "weight_step = predictor_optimizer.apply_gradients(zip(grad, predictor_1.trainable_variables))"
   ]
  },
  {
   "cell_type": "code",
   "execution_count": 209,
   "metadata": {},
   "outputs": [
    {
     "data": {
      "text/plain": [
       "[<tf.Variable 'dense_10/kernel:0' shape=(4, 10) dtype=float32, numpy=\n",
       " array([[ 0.4696756 , -0.4434791 ,  0.2639745 , -0.4105692 , -0.47405636,\n",
       "         -0.6944158 , -0.2844717 , -0.57967776, -0.4255136 ,  0.23772639],\n",
       "        [ 0.82107085, -0.94557595, -0.09670267,  1.123899  , -0.13716647,\n",
       "         -0.5480783 , -0.43161672,  0.03455314,  0.16572572,  0.20997912],\n",
       "        [-0.49135643, -0.21195328, -0.04334433, -0.8381622 , -0.43875095,\n",
       "          0.32675242,  0.65597695, -0.13594578, -0.210888  , -0.06418005],\n",
       "        [-0.06650856, -0.83621234, -0.54794526,  0.84050214,  0.0666967 ,\n",
       "          0.56812316,  0.22651352, -0.3102327 ,  0.28204638, -0.67964333]],\n",
       "       dtype=float32)>]"
      ]
     },
     "execution_count": 209,
     "metadata": {},
     "output_type": "execute_result"
    }
   ],
   "source": [
    "predictor_1.trainable_variables"
   ]
  },
  {
   "cell_type": "code",
   "execution_count": 210,
   "metadata": {},
   "outputs": [
    {
     "data": {
      "text/plain": [
       "array([[ 0.44276857, -0.43209442,  0.17139822, -0.51473606, -0.56620896,\n",
       "        -0.65066326, -0.30062282, -0.6243234 , -0.43783697,  0.1630798 ],\n",
       "       [ 0.4224726 , -0.607174  , -0.4189397 ,  0.5001584 , -0.6204565 ,\n",
       "        -0.60774255, -0.25291806,  0.33532977,  0.299918  ,  0.19814217],\n",
       "       [-0.25638744, -0.49725708,  0.19702882, -0.44613242, -0.17868066,\n",
       "         0.37250507,  0.59341705, -0.321252  , -0.2927201 ,  0.01704144],\n",
       "       [-0.35811612, -0.61002773, -0.55369246,  0.41562295, -0.18655622,\n",
       "         0.28140354,  0.4100864 , -0.0375495 ,  0.46713197, -0.5370237 ]],\n",
       "      dtype=float32)"
      ]
     },
     "execution_count": 210,
     "metadata": {},
     "output_type": "execute_result"
    }
   ],
   "source": [
    "old_predictor"
   ]
  },
  {
   "cell_type": "code",
   "execution_count": 186,
   "metadata": {},
   "outputs": [
    {
     "data": {
      "text/plain": [
       "<tf.Tensor: id=2483, shape=(), dtype=bool, numpy=False>"
      ]
     },
     "execution_count": 186,
     "metadata": {},
     "output_type": "execute_result"
    }
   ],
   "source": [
    "eps_pred = tf.math.reduce_mean(tf.losses.mean_squared_error(predictor_1.trainable_variables, old_predictor))\n",
    "eps_pred < 1e-5"
   ]
  },
  {
   "cell_type": "markdown",
   "metadata": {},
   "source": [
    "This ought to have given us some intuition for how this process should work, so we will now single out the different steps. Clearly, the tiers should simply be Tensorflow variables."
   ]
  },
  {
   "cell_type": "code",
   "execution_count": null,
   "metadata": {},
   "outputs": [],
   "source": []
  },
  {
   "cell_type": "code",
   "execution_count": 478,
   "metadata": {},
   "outputs": [],
   "source": [
    "import sklearn.decomposition as decomp"
   ]
  },
  {
   "cell_type": "code",
   "execution_count": 493,
   "metadata": {},
   "outputs": [],
   "source": [
    "pca = decomp.PCA(10).fit(art)"
   ]
  },
  {
   "cell_type": "code",
   "execution_count": 495,
   "metadata": {},
   "outputs": [
    {
     "data": {
      "text/plain": [
       "array([1.21951185e+00, 1.47887111e-01, 1.78051538e-02, 2.19805505e-03,\n",
       "       2.92805709e-04, 4.94937281e-05, 6.15893716e-06, 6.60351392e-07,\n",
       "       1.10990880e-07, 1.06866469e-08])"
      ]
     },
     "execution_count": 495,
     "metadata": {},
     "output_type": "execute_result"
    }
   ],
   "source": [
    "pca_weights = pca.components_[:4]\n",
    "pca.explained_variance_"
   ]
  },
  {
   "cell_type": "code",
   "execution_count": 496,
   "metadata": {},
   "outputs": [
    {
     "data": {
      "text/plain": [
       "(4, 10)"
      ]
     },
     "execution_count": 496,
     "metadata": {},
     "output_type": "execute_result"
    }
   ],
   "source": [
    "final_weights[0].shape"
   ]
  },
  {
   "cell_type": "code",
   "execution_count": 497,
   "metadata": {},
   "outputs": [
    {
     "data": {
      "text/plain": [
       "array([5.24617272e-03, 1.50873588e-05, 1.14442212e-06, 2.81435079e-07])"
      ]
     },
     "execution_count": 497,
     "metadata": {},
     "output_type": "execute_result"
    }
   ],
   "source": [
    "import scipy\n",
    "angles = scipy.linalg.subspace_angles(final_weights[0].T, pca_weights.T)\n",
    "angles"
   ]
  },
  {
   "cell_type": "code",
   "execution_count": 498,
   "metadata": {},
   "outputs": [
    {
     "data": {
      "text/plain": [
       "array([3.00583555e-01, 8.64441984e-04, 6.55705576e-05, 1.61250422e-05])"
      ]
     },
     "execution_count": 498,
     "metadata": {},
     "output_type": "execute_result"
    }
   ],
   "source": [
    "import numpy as np\n",
    "np.rad2deg(angles)"
   ]
  },
  {
   "cell_type": "markdown",
   "metadata": {},
   "source": [
    "The algorithm indeed seems to find the PCA subspace. I am not sure why the accuracy is so low, though. (I had increased the iterations and nothing changed.)"
   ]
  },
  {
   "cell_type": "code",
   "execution_count": 507,
   "metadata": {},
   "outputs": [],
   "source": [
    "normalized_weights = final_weights[0] / np.linalg.norm(final_weights[0], 2, axis=1, keepdims=True)"
   ]
  },
  {
   "cell_type": "code",
   "execution_count": 512,
   "metadata": {},
   "outputs": [],
   "source": [
    "contribs = np.matmul(np.linalg.inv(pca.components_).T, normalized_weights.T)"
   ]
  },
  {
   "cell_type": "code",
   "execution_count": 514,
   "metadata": {},
   "outputs": [
    {
     "data": {
      "image/png": "[encoded data removed]",
      "text/plain": [
       "<Figure size 640x480 with 1 Axes>"
      ]
     },
     "metadata": {
      "needs_background": "light"
     },
     "output_type": "display_data"
    },
    {
     "data": {
      "text/plain": [
       "<ggplot: (8734010135609)>"
      ]
     },
     "execution_count": 514,
     "metadata": {},
     "output_type": "execute_result"
    }
   ],
   "source": [
    "import lazytools_sflippl as lazytools\n",
    "lazytools.matrix_heatmap(contribs, pole=0)"
   ]
  },
  {
   "cell_type": "markdown",
   "metadata": {},
   "source": [
    "This speaks a pretty clear language though."
   ]
  },
  {
   "cell_type": "code",
   "execution_count": 516,
   "metadata": {},
   "outputs": [
    {
     "data": {
      "text/plain": [
       "array([1.07781646e+00, 1.08374561e+00, 9.05683455e-01, 9.18434088e-01,\n",
       "       4.56237665e-03, 1.25316886e-04, 1.45934388e-03, 3.39127943e-04,\n",
       "       2.85356887e-05, 3.78326325e-04])"
      ]
     },
     "execution_count": 516,
     "metadata": {},
     "output_type": "execute_result"
    }
   ],
   "source": [
    "np.linalg.norm(contribs, 2, axis=1)"
   ]
  },
  {
   "cell_type": "markdown",
   "metadata": {},
   "source": [
    "Same precision, however. This implies reasonable confidence that all errors are numerical, and we can look at an optimization of that after the first implementation."
   ]
  },
  {
   "cell_type": "markdown",
   "metadata": {},
   "source": [
    "### First implementation"
   ]
  },
  {
   "cell_type": "markdown",
   "metadata": {},
   "source": [
    "We first set up this small model:"
   ]
  },
  {
   "cell_type": "code",
   "execution_count": 1,
   "metadata": {},
   "outputs": [
    {
     "name": "stderr",
     "output_type": "stream",
     "text": [
      "/home/sflippl/.local/lib/python3.7/site-packages/tensorboard/compat/tensorflow_stub/dtypes.py:541: FutureWarning: Passing (type, 1) or '1type' as a synonym of type is deprecated; in a future version of numpy, it will be understood as (type, (1,)) / '(1,)type'.\n",
      "  _np_qint8 = np.dtype([(\"qint8\", np.int8, 1)])\n",
      "/home/sflippl/.local/lib/python3.7/site-packages/tensorboard/compat/tensorflow_stub/dtypes.py:542: FutureWarning: Passing (type, 1) or '1type' as a synonym of type is deprecated; in a future version of numpy, it will be understood as (type, (1,)) / '(1,)type'.\n",
      "  _np_quint8 = np.dtype([(\"quint8\", np.uint8, 1)])\n",
      "/home/sflippl/.local/lib/python3.7/site-packages/tensorboard/compat/tensorflow_stub/dtypes.py:543: FutureWarning: Passing (type, 1) or '1type' as a synonym of type is deprecated; in a future version of numpy, it will be understood as (type, (1,)) / '(1,)type'.\n",
      "  _np_qint16 = np.dtype([(\"qint16\", np.int16, 1)])\n",
      "/home/sflippl/.local/lib/python3.7/site-packages/tensorboard/compat/tensorflow_stub/dtypes.py:544: FutureWarning: Passing (type, 1) or '1type' as a synonym of type is deprecated; in a future version of numpy, it will be understood as (type, (1,)) / '(1,)type'.\n",
      "  _np_quint16 = np.dtype([(\"quint16\", np.uint16, 1)])\n",
      "/home/sflippl/.local/lib/python3.7/site-packages/tensorboard/compat/tensorflow_stub/dtypes.py:545: FutureWarning: Passing (type, 1) or '1type' as a synonym of type is deprecated; in a future version of numpy, it will be understood as (type, (1,)) / '(1,)type'.\n",
      "  _np_qint32 = np.dtype([(\"qint32\", np.int32, 1)])\n",
      "/home/sflippl/.local/lib/python3.7/site-packages/tensorboard/compat/tensorflow_stub/dtypes.py:550: FutureWarning: Passing (type, 1) or '1type' as a synonym of type is deprecated; in a future version of numpy, it will be understood as (type, (1,)) / '(1,)type'.\n",
      "  np_resource = np.dtype([(\"resource\", np.ubyte, 1)])\n"
     ]
    },
    {
     "data": {
      "text/plain": [
       "<predicode.hierarchical.hierarchical.Hierarchical at 0x7f77a4655150>"
      ]
     },
     "execution_count": 1,
     "metadata": {},
     "output_type": "execute_result"
    }
   ],
   "source": [
    "import predicode as pc\n",
    "import tensorflow as tf\n",
    "import tensorflow.keras as keras\n",
    "hpc = pc.Hierarchical()\n",
    "hpc.add_tier(shape=(10, ))\n",
    "hpc.add_tier(shape=(4, ),\n",
    "             name='latent_layer')"
   ]
  },
  {
   "cell_type": "code",
   "execution_count": 2,
   "metadata": {},
   "outputs": [
    {
     "name": "stdout",
     "output_type": "stream",
     "text": [
      "# Tier 1: latent_layer\n",
      "## Connecting Predictor\n",
      "(No predictor defined.)\n",
      "## Connecting State Prediction\n",
      "(No state prediction defined.)\n",
      "# Tier 0: tier_0\n"
     ]
    }
   ],
   "source": [
    "hpc.summary()"
   ]
  },
  {
   "cell_type": "code",
   "execution_count": 3,
   "metadata": {},
   "outputs": [],
   "source": [
    "hpc.predictor = keras.Sequential()\n",
    "hpc.predictor.add(\n",
    "    keras.layers.Dense(10, input_shape=(4, ), use_bias=False, dtype=tf.float32)\n",
    ")\n",
    "hpc.state_prediction = pc.StatePrediction()"
   ]
  },
  {
   "cell_type": "code",
   "execution_count": 4,
   "metadata": {},
   "outputs": [
    {
     "name": "stdout",
     "output_type": "stream",
     "text": [
      "# Tier 1: latent_layer\n",
      "## Connecting Predictor\n",
      "Model: \"sequential\"\n",
      "_________________________________________________________________\n",
      "Layer (type)                 Output Shape              Param #   \n",
      "=================================================================\n",
      "dense (Dense)                (None, 10)                40        \n",
      "=================================================================\n",
      "Total params: 40\n",
      "Trainable params: 40\n",
      "Non-trainable params: 0\n",
      "_________________________________________________________________\n",
      "## Connecting State Prediction\n",
      "Loss-driven state prediction.\n",
      "Loss function: <function mean_squared_error at 0x7f7760b959e0>\n",
      "# Tier 0: tier_0\n"
     ]
    }
   ],
   "source": [
    "hpc.summary()"
   ]
  },
  {
   "cell_type": "code",
   "execution_count": 5,
   "metadata": {},
   "outputs": [],
   "source": [
    "hpc._is_ready()"
   ]
  },
  {
   "cell_type": "code",
   "execution_count": 6,
   "metadata": {},
   "outputs": [],
   "source": [
    "dataset = pc.decaying_multi_normal(dimensions = 10, size = 100).astype('float32')"
   ]
  },
  {
   "cell_type": "code",
   "execution_count": 7,
   "metadata": {},
   "outputs": [],
   "source": [
    "state_regimen = pc.SimpleOptimizerRegimen(keras.optimizers.SGD())\n",
    "predictor_regimen = pc.SimpleOptimizerRegimen(keras.optimizers.SGD(), eps=1e-7)"
   ]
  },
  {
   "cell_type": "code",
   "execution_count": 8,
   "metadata": {},
   "outputs": [],
   "source": [
    "regimen = pc.ExpectationMaximizationRegimen(\n",
    "    state_regimen=state_regimen,\n",
    "    predictor_regimen=predictor_regimen\n",
    ")"
   ]
  },
  {
   "cell_type": "code",
   "execution_count": 9,
   "metadata": {},
   "outputs": [
    {
     "data": {
      "text/plain": [
       "<predicode.hierarchical.hierarchical.Hierarchical at 0x7f77a4655150>"
      ]
     },
     "execution_count": 9,
     "metadata": {},
     "output_type": "execute_result"
    }
   ],
   "source": [
    "hpc.train(dataset, regimen, batch_size=50)"
   ]
  },
  {
   "cell_type": "code",
   "execution_count": 10,
   "metadata": {},
   "outputs": [],
   "source": [
    "import sklearn.decomposition as decomp\n",
    "pca = decomp.PCA(10).fit(dataset)"
   ]
  },
  {
   "cell_type": "code",
   "execution_count": 11,
   "metadata": {},
   "outputs": [
    {
     "data": {
      "text/plain": [
       "array([2.3535016e-01, 9.9464608e-03, 9.4188261e-04, 1.0799919e-04],\n",
       "      dtype=float32)"
      ]
     },
     "execution_count": 11,
     "metadata": {},
     "output_type": "execute_result"
    }
   ],
   "source": [
    "import scipy\n",
    "angles = scipy.linalg.subspace_angles(hpc.predictor.get_weights()[0].T, pca.components_[:4].T)\n",
    "angles"
   ]
  },
  {
   "cell_type": "code",
   "execution_count": 12,
   "metadata": {},
   "outputs": [],
   "source": [
    "import numpy as np\n",
    "normalized_weights = hpc.predictor.get_weights()[0] / np.linalg.norm(hpc.predictor.get_weights()[0], 2, axis=1, keepdims=True)"
   ]
  },
  {
   "cell_type": "code",
   "execution_count": 13,
   "metadata": {},
   "outputs": [],
   "source": [
    "contribs = np.matmul(np.linalg.inv(pca.components_).T, normalized_weights.T)"
   ]
  },
  {
   "cell_type": "code",
   "execution_count": 15,
   "metadata": {},
   "outputs": [
    {
     "data": {
      "image/png": "[encoded data removed]",
      "text/plain": [
       "<Figure size 640x480 with 1 Axes>"
      ]
     },
     "metadata": {
      "needs_background": "light"
     },
     "output_type": "display_data"
    },
    {
     "data": {
      "text/plain": [
       "<ggplot: (8759368156789)>"
      ]
     },
     "execution_count": 15,
     "metadata": {},
     "output_type": "execute_result"
    }
   ],
   "source": [
    "import lazytools_sflippl as lazytools\n",
    "lazytools.matrix_heatmap(contribs, pole=0)"
   ]
  },
  {
   "cell_type": "code",
   "execution_count": 19,
   "metadata": {},
   "outputs": [
    {
     "data": {
      "text/plain": [
       "TensorShape([50, 4])"
      ]
     },
     "execution_count": 19,
     "metadata": {},
     "output_type": "execute_result"
    }
   ],
   "source": [
    "hpc.tier(1).shape"
   ]
  },
  {
   "cell_type": "code",
   "execution_count": 16,
   "metadata": {},
   "outputs": [
    {
     "data": {
      "image/png": "[encoded data removed]",
      "text/plain": [
       "<Figure size 640x480 with 1 Axes>"
      ]
     },
     "metadata": {
      "needs_background": "light"
     },
     "output_type": "display_data"
    },
    {
     "data": {
      "text/plain": [
       "<ggplot: (8759401485397)>"
      ]
     },
     "execution_count": 16,
     "metadata": {},
     "output_type": "execute_result"
    }
   ],
   "source": [
    "lazytools.matrix_heatmap(hpc.tier(1).numpy(), pole=0)"
   ]
  }
 ],
 "metadata": {
  "kernelspec": {
   "display_name": "Python 3",
   "language": "python",
   "name": "python3"
  },
  "language_info": {
   "codemirror_mode": {
    "name": "ipython",
    "version": 3
   },
   "file_extension": ".py",
   "mimetype": "text/x-python",
   "name": "python",
   "nbconvert_exporter": "python",
   "pygments_lexer": "ipython3",
   "version": "3.7.4"
  }
 },
 "nbformat": 4,
 "nbformat_minor": 4
}
