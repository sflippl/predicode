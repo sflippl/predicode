{
 "cells": [
  {
   "cell_type": "markdown",
   "metadata": {},
   "source": [
    "# States (Version 0.2.0-beta)"
   ]
  },
  {
   "cell_type": "markdown",
   "metadata": {},
   "source": [
    "## States object"
   ]
  },
  {
   "cell_type": "raw",
   "metadata": {},
   "source": [
    "state = pc.State({'state'{\n",
    "    'tier_0': np.array(...),\n",
    "    'latent_layer': np.array(...)\n",
    "}, {'prediction':{\n",
    "    'tier_0': np.array(...)\n",
    "}}, 'prediction_error':{...},\n",
    "    'order'['tier_0', 'latent_layer']}\n",
    ")"
   ]
  },
  {
   "cell_type": "code",
   "execution_count": null,
   "metadata": {},
   "outputs": [],
   "source": []
  }
 ],
 "metadata": {
  "kernelspec": {
   "display_name": "Python 3",
   "language": "python",
   "name": "python3"
  },
  "language_info": {
   "codemirror_mode": {
    "name": "ipython",
    "version": 3
   },
   "file_extension": ".py",
   "mimetype": "text/x-python",
   "name": "python",
   "nbconvert_exporter": "python",
   "pygments_lexer": "ipython3",
   "version": "3.7.4"
  }
 },
 "nbformat": 4,
 "nbformat_minor": 4
}
