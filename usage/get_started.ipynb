{
 "cells": [
  {
   "cell_type": "markdown",
   "metadata": {},
   "source": [
    "# Get Started"
   ]
  },
  {
   "cell_type": "markdown",
   "metadata": {},
   "source": [
    "[![Google Colab](https://badgen.net/badge/Launch/on%20Google%20Colab/blue?icon=github)](https://colab.research.google.com/github/sflippl/predicode/blob/master/usage/get_started.ipynb)"
   ]
  },
  {
   "cell_type": "code",
   "execution_count": 1,
   "metadata": {},
   "outputs": [],
   "source": [
    "# For installation of the necessary packages in Google Colab\n",
    "try:\n",
    "    import predicode as pc\n",
    "except:\n",
    "    !pip install git+https://github.com/sflippl/predicode\n",
    "    import predicode as pc\n",
    "# lazytools just contains a few convenience functions, specifically matrix heatmaps,\n",
    "# but is otherwise not necessary.\n",
    "try:\n",
    "    import lazytools_sflippl as lazytools\n",
    "except: \n",
    "    !pip install git+https://github.com/sflippl/lazytools\n",
    "    import lazytools_sflippl as lazytools"
   ]
  },
  {
   "cell_type": "markdown",
   "metadata": {},
   "source": [
    "In this tutorial, you will get to know the basic functionality of predicode, starting with a minimal linear predictive coding model before discussing multiple tiers, customized optimization regimens, training in batches, and the tensorboard functionality."
   ]
  },
  {
   "cell_type": "markdown",
   "metadata": {},
   "source": [
    "Throughout the tutorial, we will be concerned with a small artificial dataset that is normally distributed, with its principal components having exponentially decreasing variance."
   ]
  },
  {
   "cell_type": "code",
   "execution_count": 2,
   "metadata": {},
   "outputs": [],
   "source": [
    "dataset = pc.datasets.decaying_multi_normal(dimensions=10, size=100)"
   ]
  },
  {
   "cell_type": "code",
   "execution_count": 3,
   "metadata": {},
   "outputs": [
    {
     "data": {
      "image/png": "[encoded data removed]",
      "text/plain": [
       "<Figure size 640x480 with 1 Axes>"
      ]
     },
     "metadata": {
      "needs_background": "light"
     },
     "output_type": "display_data"
    },
    {
     "data": {
      "text/plain": [
       "<ggplot: (8793315686193)>"
      ]
     },
     "execution_count": 3,
     "metadata": {},
     "output_type": "execute_result"
    }
   ],
   "source": [
    "lazytools.matrix_heatmap(dataset, pole=0)"
   ]
  },
  {
   "cell_type": "markdown",
   "metadata": {},
   "source": [
    "## The minimal model"
   ]
  },
  {
   "cell_type": "markdown",
   "metadata": {},
   "source": [
    "As a first step, we add tiers of specified shape, in this case a ten-dimensional input layer and a four-dimensional latent layer."
   ]
  },
  {
   "cell_type": "code",
   "execution_count": 4,
   "metadata": {},
   "outputs": [
    {
     "name": "stdout",
     "output_type": "stream",
     "text": [
      "Active connection: tier_1 -> tier_0\n"
     ]
    },
    {
     "data": {
      "text/plain": [
       "<predicode.hierarchical.hierarchical.Hierarchical at 0x7f7782c9c610>"
      ]
     },
     "execution_count": 4,
     "metadata": {},
     "output_type": "execute_result"
    }
   ],
   "source": [
    "hpc_minimal = pc.Hierarchical()\n",
    "hpc_minimal.add_tier(shape=(10, ))\n",
    "hpc_minimal.add_tier(shape=(4, ))"
   ]
  },
  {
   "cell_type": "markdown",
   "metadata": {},
   "source": [
    "We can inspect the current result using the summary:"
   ]
  },
  {
   "cell_type": "code",
   "execution_count": 5,
   "metadata": {},
   "outputs": [
    {
     "name": "stdout",
     "output_type": "stream",
     "text": [
      "# Tier 1: tier_1\n",
      "\n",
      "# Connection: tier_1 -> tier_0\n",
      "(No tier connection defined.)\n",
      "\n",
      "# Tier 0: tier_0\n"
     ]
    }
   ],
   "source": [
    "hpc_minimal.summary()"
   ]
  },
  {
   "cell_type": "markdown",
   "metadata": {},
   "source": [
    "The 'connection' property refers to the currently activated connection, in this case the connection between tier 1 and tier 0."
   ]
  },
  {
   "cell_type": "markdown",
   "metadata": {},
   "source": [
    "This connection specifies how tier 1 is inferred from tier 0 with the observed data. The class `pc.TopDownPrediction()` provides a classical hierarchical predictive connection where tier 1 is used to predict tier 0 and the values of tier 1 are inferred to optimize this prediction. The provided model must be a Keras model that specifies how tier 0 is predicted from tier 1. Specifically, `pc.TopDownSequential` instantiates a [Sequential](https://keras.io/getting-started/sequential-model-guide/) model."
   ]
  },
  {
   "cell_type": "markdown",
   "metadata": {},
   "source": [
    "For example, a simple linear connection is given by a sequential model consisting of single dense linear connection."
   ]
  },
  {
   "cell_type": "code",
   "execution_count": 6,
   "metadata": {},
   "outputs": [],
   "source": [
    "import tensorflow.keras as keras\n",
    "hpc_minimal.connection = pc.connections.TopDownSequential()\n",
    "hpc_minimal.connection.add(keras.layers.Dense(10, input_shape=(4, )))"
   ]
  },
  {
   "cell_type": "markdown",
   "metadata": {},
   "source": [
    "The model is now ready to be compiled:"
   ]
  },
  {
   "cell_type": "code",
   "execution_count": 7,
   "metadata": {},
   "outputs": [
    {
     "name": "stdout",
     "output_type": "stream",
     "text": [
      "# Tier 1: tier_1\n",
      "\n",
      "# Connection: tier_1 -> tier_0\n",
      "Top-down prediction.\n",
      "## Predictive model\n",
      "Model: \"sequential\"\n",
      "_________________________________________________________________\n",
      "Layer (type)                 Output Shape              Param #   \n",
      "=================================================================\n",
      "dense (Dense)                (None, 10)                50        \n",
      "=================================================================\n",
      "Total params: 50\n",
      "Trainable params: 50\n",
      "Non-trainable params: 0\n",
      "_________________________________________________________________\n",
      "## Prediction error\n",
      "<tensorflow.python.eager.def_function.Function object at 0x7f77882c5a50>\n",
      "## Loss function\n",
      "<function mean_squared_error at 0x7f7791d54440>\n",
      "\n",
      "# Tier 0: tier_0\n"
     ]
    }
   ],
   "source": [
    "hpc_minimal.summary()"
   ]
  },
  {
   "cell_type": "markdown",
   "metadata": {},
   "source": [
    "By default, the prediction error is given by the difference between the prediction from tier 1 and the true values of tier 0, and the loss function is given by the mean squared error between the two. By compiling the model, we now specify how the states and the predictor weights are estimated."
   ]
  },
  {
   "cell_type": "code",
   "execution_count": 8,
   "metadata": {},
   "outputs": [],
   "source": [
    "hpc_minimal.compile(optimizer='adam')"
   ]
  },
  {
   "cell_type": "markdown",
   "metadata": {},
   "source": [
    "We can now use `dataset` to train the model:"
   ]
  },
  {
   "cell_type": "code",
   "execution_count": 9,
   "metadata": {},
   "outputs": [
    {
     "data": {
      "text/plain": [
       "<predicode.hierarchical.hierarchical.Hierarchical at 0x7f7782c9c610>"
      ]
     },
     "execution_count": 9,
     "metadata": {},
     "output_type": "execute_result"
    }
   ],
   "source": [
    "hpc_minimal.train(dataset)"
   ]
  },
  {
   "cell_type": "markdown",
   "metadata": {},
   "source": [
    "We can now inspect the estimated tiers, predictions, and prediction errors:"
   ]
  },
  {
   "cell_type": "code",
   "execution_count": 10,
   "metadata": {},
   "outputs": [
    {
     "data": {
      "image/png": "[encoded data removed]",
      "text/plain": [
       "<Figure size 640x480 with 1 Axes>"
      ]
     },
     "metadata": {
      "needs_background": "light"
     },
     "output_type": "display_data"
    },
    {
     "data": {
      "text/plain": [
       "<ggplot: (8759428988677)>"
      ]
     },
     "execution_count": 10,
     "metadata": {},
     "output_type": "execute_result"
    }
   ],
   "source": [
    "lazytools.matrix_heatmap(hpc_minimal.tier(1).numpy(), pole=0)"
   ]
  },
  {
   "cell_type": "code",
   "execution_count": 11,
   "metadata": {},
   "outputs": [
    {
     "data": {
      "image/png": "[encoded data removed]",
      "text/plain": [
       "<Figure size 640x480 with 1 Axes>"
      ]
     },
     "metadata": {
      "needs_background": "light"
     },
     "output_type": "display_data"
    },
    {
     "data": {
      "text/plain": [
       "<ggplot: (8759457976277)>"
      ]
     },
     "execution_count": 11,
     "metadata": {},
     "output_type": "execute_result"
    }
   ],
   "source": [
    "lazytools.matrix_heatmap(hpc_minimal.prediction(0).numpy(), pole=0)"
   ]
  },
  {
   "cell_type": "code",
   "execution_count": 12,
   "metadata": {},
   "outputs": [
    {
     "data": {
      "image/png": "[encoded data removed]",
      "text/plain": [
       "<Figure size 640x480 with 1 Axes>"
      ]
     },
     "metadata": {
      "needs_background": "light"
     },
     "output_type": "display_data"
    },
    {
     "data": {
      "text/plain": [
       "<ggplot: (8759434997257)>"
      ]
     },
     "execution_count": 12,
     "metadata": {},
     "output_type": "execute_result"
    }
   ],
   "source": [
    "lazytools.matrix_heatmap(hpc_minimal.prediction_error(0).numpy(), pole=0)"
   ]
  },
  {
   "cell_type": "markdown",
   "metadata": {},
   "source": [
    "We can also inspect the estimated weights:"
   ]
  },
  {
   "cell_type": "code",
   "execution_count": 22,
   "metadata": {},
   "outputs": [
    {
     "data": {
      "text/plain": [
       "[array([[ 0.2532234 , -0.23359032, -0.30848673, -0.46207476,  1.1907623 ,\n",
       "          0.07036471,  0.0395364 , -0.5975455 , -0.0981449 ,  1.0263233 ],\n",
       "        [ 0.96219337,  0.2996751 ,  0.4978161 ,  1.9671642 , -1.9097153 ,\n",
       "         -0.6868669 , -0.89565444,  0.10537559, -0.8306558 , -0.6066443 ],\n",
       "        [-0.54445493,  0.48863244, -2.0511308 ,  1.1066118 ,  0.02765923,\n",
       "          0.75716937, -0.5193538 ,  0.6918637 , -0.7989001 ,  0.0691084 ],\n",
       "        [ 0.13765734, -0.91446394,  2.0700321 , -0.11800873,  1.2984294 ,\n",
       "         -0.8754481 ,  0.99491   , -0.85192275,  0.25543442,  0.7894489 ]],\n",
       "       dtype=float32),\n",
       " array([ 3.7189270e-04, -6.3599268e-04,  1.6035611e-03, -6.4577075e-04,\n",
       "         3.0221774e-03, -8.8079792e-04,  7.6713826e-04, -8.5571592e-05,\n",
       "         6.6558714e-04,  3.4619228e-04], dtype=float32)]"
      ]
     },
     "execution_count": 22,
     "metadata": {},
     "output_type": "execute_result"
    }
   ],
   "source": [
    "hpc_minimal.connection.model.get_weights()"
   ]
  },
  {
   "cell_type": "markdown",
   "metadata": {},
   "source": [
    "## Optimization regimens"
   ]
  },
  {
   "cell_type": "markdown",
   "metadata": {},
   "source": [
    "Hierarchical predictive coding must infer the latent variables and the predictor's weights. When both are taken together, the system is oversaturated. These variables must therefore be estimated in separate stages. Usually, this is solved by the Expectation-Maximization-Algorithm, iteratively estimating states and predictor variables until convergence. This means that the usual routine of simply specifying epochs is not sufficient. Instead, convergence criteria must be specified when estimation mode should be switched."
   ]
  },
  {
   "cell_type": "code",
   "execution_count": null,
   "metadata": {},
   "outputs": [],
   "source": []
  },
  {
   "cell_type": "markdown",
   "metadata": {},
   "source": [
    "## Multiple tiers"
   ]
  },
  {
   "cell_type": "markdown",
   "metadata": {},
   "source": [
    "Specifying multiple tiers works in exactly the same way:"
   ]
  },
  {
   "cell_type": "code",
   "execution_count": 20,
   "metadata": {},
   "outputs": [
    {
     "name": "stdout",
     "output_type": "stream",
     "text": [
      "Active connection: tier_1 -> tier_0\n",
      "Active connection: tier_2 -> tier_1\n"
     ]
    },
    {
     "data": {
      "text/plain": [
       "<predicode.hierarchical.hierarchical.Hierarchical at 0x7ff58c383dd0>"
      ]
     },
     "execution_count": 20,
     "metadata": {},
     "output_type": "execute_result"
    }
   ],
   "source": [
    "hpc_three = pc.Hierarchical()\n",
    "hpc_three.add_tier(shape=(10, ))\n",
    "hpc_three.add_tier(shape=(4, ))\n",
    "hpc_three.add_tier(shape=(2, ))"
   ]
  },
  {
   "cell_type": "markdown",
   "metadata": {},
   "source": [
    "At the moment the active connection is given by the one between tier_2 and tier_1. We specify a sequential model with an intermediate nonlinearity."
   ]
  },
  {
   "cell_type": "code",
   "execution_count": 21,
   "metadata": {},
   "outputs": [],
   "source": [
    "import tensorflow.keras as keras\n",
    "hpc_three.connection = pc.connections.TopDownSequential(\n",
    "    layers=[\n",
    "        keras.layers.Dense(4, input_shape=(2, )),\n",
    "        keras.layers.Activation('relu'),\n",
    "        keras.layers.Dense(4)\n",
    "    ]\n",
    ")"
   ]
  },
  {
   "cell_type": "markdown",
   "metadata": {},
   "source": [
    "We now activate the connection between tier_1 and tier_0 to specify a linear model there."
   ]
  },
  {
   "cell_type": "code",
   "execution_count": 22,
   "metadata": {},
   "outputs": [
    {
     "name": "stdout",
     "output_type": "stream",
     "text": [
      "Active connection: tier_1 -> tier_0\n"
     ]
    },
    {
     "data": {
      "text/plain": [
       "<predicode.hierarchical.hierarchical.Hierarchical at 0x7ff58c383dd0>"
      ]
     },
     "execution_count": 22,
     "metadata": {},
     "output_type": "execute_result"
    }
   ],
   "source": [
    "hpc_three.activate_connection('tier_1')"
   ]
  },
  {
   "cell_type": "code",
   "execution_count": 23,
   "metadata": {},
   "outputs": [],
   "source": [
    "hpc_three.connection = pc.connections.TopDownSequential(\n",
    "    layers=[keras.layers.Dense(10, input_shape=(4, ), use_bias=False)]\n",
    ")"
   ]
  },
  {
   "cell_type": "code",
   "execution_count": 24,
   "metadata": {},
   "outputs": [
    {
     "name": "stdout",
     "output_type": "stream",
     "text": [
      "# Tier 2: tier_2\n",
      "\n",
      "# Connection: tier_2 -> tier_1\n",
      "Top-down prediction.\n",
      "## Predictive model\n",
      "Model: \"sequential_2\"\n",
      "_________________________________________________________________\n",
      "Layer (type)                 Output Shape              Param #   \n",
      "=================================================================\n",
      "dense_3 (Dense)              (None, 4)                 12        \n",
      "_________________________________________________________________\n",
      "activation_1 (Activation)    (None, 4)                 0         \n",
      "_________________________________________________________________\n",
      "dense_4 (Dense)              (None, 4)                 20        \n",
      "=================================================================\n",
      "Total params: 32\n",
      "Trainable params: 32\n",
      "Non-trainable params: 0\n",
      "_________________________________________________________________\n",
      "## Prediction error\n",
      "<tensorflow.python.eager.def_function.Function object at 0x7ff5acaf26d0>\n",
      "## Loss function\n",
      "<function mean_squared_error at 0x7ff5b65774d0>\n",
      "\n",
      "# Tier 1: tier_1\n",
      "\n",
      "# Connection: tier_1 -> tier_0\n",
      "Top-down prediction.\n",
      "## Predictive model\n",
      "Model: \"sequential_3\"\n",
      "_________________________________________________________________\n",
      "Layer (type)                 Output Shape              Param #   \n",
      "=================================================================\n",
      "dense_5 (Dense)              (None, 10)                40        \n",
      "=================================================================\n",
      "Total params: 40\n",
      "Trainable params: 40\n",
      "Non-trainable params: 0\n",
      "_________________________________________________________________\n",
      "## Prediction error\n",
      "<tensorflow.python.eager.def_function.Function object at 0x7ff5acaf26d0>\n",
      "## Loss function\n",
      "<function mean_squared_error at 0x7ff5b65774d0>\n",
      "\n",
      "# Tier 0: tier_0\n"
     ]
    }
   ],
   "source": [
    "hpc_three.summary()"
   ]
  },
  {
   "cell_type": "code",
   "execution_count": 25,
   "metadata": {},
   "outputs": [],
   "source": [
    "hpc_three.compile(optimizer=pc.regimens.OptimizerRegimen(\n",
    "    keras.optimizers.Adam(),\n",
    "    eps=1e-5\n",
    "))"
   ]
  },
  {
   "cell_type": "code",
   "execution_count": 26,
   "metadata": {},
   "outputs": [
    {
     "data": {
      "text/plain": [
       "<predicode.hierarchical.hierarchical.Hierarchical at 0x7ff58c383dd0>"
      ]
     },
     "execution_count": 26,
     "metadata": {},
     "output_type": "execute_result"
    }
   ],
   "source": [
    "hpc_three.train(dataset)"
   ]
  },
  {
   "cell_type": "markdown",
   "metadata": {},
   "source": [
    "We can now again examine this model:"
   ]
  },
  {
   "cell_type": "code",
   "execution_count": 27,
   "metadata": {},
   "outputs": [
    {
     "data": {
      "image/png": "[encoded data removed]",
      "text/plain": [
       "<Figure size 640x480 with 1 Axes>"
      ]
     },
     "metadata": {
      "needs_background": "light"
     },
     "output_type": "display_data"
    },
    {
     "data": {
      "text/plain": [
       "<ggplot: (8793270735457)>"
      ]
     },
     "execution_count": 27,
     "metadata": {},
     "output_type": "execute_result"
    }
   ],
   "source": [
    "lazytools.matrix_heatmap(hpc_three.tier(2).numpy(), pole=0)"
   ]
  },
  {
   "cell_type": "code",
   "execution_count": 37,
   "metadata": {},
   "outputs": [
    {
     "data": {
      "image/png": "[encoded data removed]",
      "text/plain": [
       "<Figure size 640x480 with 1 Axes>"
      ]
     },
     "metadata": {
      "needs_background": "light"
     },
     "output_type": "display_data"
    },
    {
     "data": {
      "text/plain": [
       "<ggplot: (8793161231269)>"
      ]
     },
     "execution_count": 37,
     "metadata": {},
     "output_type": "execute_result"
    }
   ],
   "source": [
    "lazytools.matrix_heatmap(hpc_three.prediction_error(0).numpy(), pole=0)"
   ]
  },
  {
   "cell_type": "code",
   "execution_count": 39,
   "metadata": {},
   "outputs": [
    {
     "data": {
      "image/png": "[encoded data removed]",
      "text/plain": [
       "<Figure size 640x480 with 1 Axes>"
      ]
     },
     "metadata": {
      "needs_background": "light"
     },
     "output_type": "display_data"
    },
    {
     "data": {
      "text/plain": [
       "<ggplot: (8793152235493)>"
      ]
     },
     "execution_count": 39,
     "metadata": {},
     "output_type": "execute_result"
    }
   ],
   "source": [
    "lazytools.matrix_heatmap(hpc_three.prediction(1).numpy(), pole=0)"
   ]
  },
  {
   "cell_type": "code",
   "execution_count": 40,
   "metadata": {},
   "outputs": [
    {
     "data": {
      "image/png": "[encoded data removed]",
      "text/plain": [
       "<Figure size 640x480 with 1 Axes>"
      ]
     },
     "metadata": {
      "needs_background": "light"
     },
     "output_type": "display_data"
    },
    {
     "data": {
      "text/plain": [
       "<ggplot: (8793162917905)>"
      ]
     },
     "execution_count": 40,
     "metadata": {},
     "output_type": "execute_result"
    }
   ],
   "source": [
    "lazytools.matrix_heatmap(hpc_three.tier(1).numpy(), pole=0)"
   ]
  },
  {
   "cell_type": "code",
   "execution_count": null,
   "metadata": {},
   "outputs": [],
   "source": []
  }
 ],
 "metadata": {
  "kernelspec": {
   "display_name": "Python 3",
   "language": "python",
   "name": "python3"
  },
  "language_info": {
   "codemirror_mode": {
    "name": "ipython",
    "version": 3
   },
   "file_extension": ".py",
   "mimetype": "text/x-python",
   "name": "python",
   "nbconvert_exporter": "python",
   "pygments_lexer": "ipython3",
   "version": "3.7.4"
  }
 },
 "nbformat": 4,
 "nbformat_minor": 4
}
